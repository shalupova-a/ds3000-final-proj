{
 "cells": [
  {
   "cell_type": "markdown",
   "metadata": {},
   "source": [
    "# Data and Analysis Plan: Predicting the Impact of Ocean Acidification on Coral Reefs in the Great Barrier Reef\n",
    "\n",
    "### Team 35\n",
    "- Sophie Louie\n",
    "- Angelina Shalupova\n",
    "\n",
    "\n",
    "### Project Goal:"
   ]
  },
  {
   "cell_type": "markdown",
   "metadata": {},
   "source": [
    "## Data\n",
    "\n",
    "### Overview\n",
    "\n",
    "#### Pipeline Overview\n",
    "\n",
    "`get_ph_and_cO2()`:\n",
    "    This function obtains seawater pH levels and CO2 levels from a coral sample from the Great Barrier Reef and creates a clean DataFrame. \n",
    "    Source: https://www.ncdc.noaa.gov/paleo-search/study/10425\n",
    "\n",
    "`get_coral_calc()`:\n",
    "    This function obtains and collects the coral calcification information from the Great Barrier Reef in a DataFrame. The columns represent skeletal density (grams per cubic centimeter), annual extension (linear growth, cm per year), and calcification rate (the product of skeletal density and annual extension; grams per square centimeter per year).\n",
    "    Source: https://apps.aims.gov.au/metadata/view/ff433c10-ea4d-11dc-823c-00008a07204e\n",
    "\n",
    "`get_co2_per_capita()`:\n",
    "    This function obtains and collects the carbon emissions per capita data of Australia into a DataFrame.\n",
    "    ** used per capita data, but per GDP data is also available **\n",
    "    Source: https://data.gov.au/data/dataset/indicator-9-4-1"
   ]
  },
  {
   "cell_type": "markdown",
   "metadata": {},
   "source": [
    "## Pipeline"
   ]
  },
  {
   "cell_type": "markdown",
   "metadata": {},
   "source": []
  },
  {
   "cell_type": "code",
   "execution_count": 2,
   "metadata": {},
   "outputs": [],
   "source": [
    "import pandas as pd\n",
    "from datetime import datetime\n",
    "\n",
    "def get_ph_and_co2():\n",
    "    \"\"\" Gets and cleans DataFrame of seawater ph and CO2 levels from GBR sample\n",
    "    \n",
    "    Returns:\n",
    "        df_ph_co2 (pd.DataFrame): \n",
    "    \"\"\"\n",
    "    df_ph_co2 = pd.read_csv('arlington2009.csv')\n",
    "    df_ph_co2.dropna(inplace=True)\n",
    "\n",
    "    del df_ph_co2['SampleID']\n",
    "    del df_ph_co2['        d13C (per mil VPDB) *c']\n",
    "    del df_ph_co2['        d18O (per mil VPDB) *c']\n",
    "    del df_ph_co2['        d11B (per mil) *d']\n",
    "    del df_ph_co2['2sigma']\n",
    "    del df_ph_co2['   2sigma mean *e']\n",
    "    df_ph_co2.columns = ['Year', 'Mg/Ca (x10-3)', 'Sr/Ca (x10-3)', 'Ba/Ca (x10-6)', 'pH']\n",
    "    \n",
    "    # set index to the year of sample taken, easier to compare to years of the other datasets\n",
    "    df_ph_co2.set_index(['Year'], inplace=True)\n",
    "\n",
    "    return df_ph_co2\n",
    "\n",
    "    \n",
    "df_ph_co2 = get_ph_and_co2()"
   ]
  },
  {
   "cell_type": "code",
   "execution_count": 3,
   "metadata": {},
   "outputs": [],
   "source": [
    "def get_coral_calc():\n",
    "    \"\"\"Obtains, cleans, and organizes the coral calficiation data into a DataFrame\n",
    "    \n",
    "    Returns:\n",
    "        df_coral (DataFrame) : DataFrame containing the cleaned coral calcification data (including all columns)\n",
    "    \"\"\"\n",
    "    df_coral = pd.read_csv(\"GBR-coral-calcification.csv\")\n",
    "    df_coral.dropna(axis=0, inplace=True)\n",
    "    \n",
    "    del df_coral['Reef']\n",
    "    df_coral.columns = ['Year', 'id', 'extension', 'skel density', 'calc rate']\n",
    "    \n",
    "    # set index to the year of sample taken, easier to compare to years of the other datasets\n",
    "    df_coral.set_index(['Year'], inplace=True)\n",
    "    \n",
    "    return df_coral\n",
    "\n",
    "df_coral_calc = get_coral_calc()"
   ]
  },
  {
   "cell_type": "code",
   "execution_count": 18,
   "metadata": {},
   "outputs": [],
   "source": [
    "def get_australia_co2():\n",
    "    \"\"\"Gets and cleans historic carbon emmissions data of Autralia into a DataFrame\n",
    "    \n",
    "    ReturnsL:\n",
    "        df_co2 (DataFrame) : DataFrame containing the cleaned carbon emissions data\n",
    "    \"\"\"\n",
    "    df_co2 = pd.read_csv('2018-australiansdg-indicator-9-4-1-a.csv')\n",
    "    df_co2.dropna(axis=0, inplace=True)\n",
    "    \n",
    "    # set index to the year of sample taken, easier to compare to years of the other datasets\n",
    "    df_co2.set_index(['Year'], inplace=True)\n",
    "    \n",
    "    return df_co2\n",
    "\n",
    "df_co2 = get_australia_co2()"
   ]
  },
  {
   "cell_type": "markdown",
   "metadata": {},
   "source": [
    "## Data Visualization"
   ]
  },
  {
   "cell_type": "markdown",
   "metadata": {},
   "source": [
    "pH and CO2 changes over the years:"
   ]
  },
  {
   "cell_type": "code",
   "execution_count": 3,
   "metadata": {},
   "outputs": [],
   "source": [
    "# graph"
   ]
  },
  {
   "cell_type": "code",
   "execution_count": 4,
   "metadata": {},
   "outputs": [],
   "source": [
    "# corr matrix"
   ]
  },
  {
   "cell_type": "markdown",
   "metadata": {},
   "source": [
    "## Analysis Plan"
   ]
  }
 ],
 "metadata": {
  "kernelspec": {
   "display_name": "Python 3",
   "language": "python",
   "name": "python3"
  },
  "language_info": {
   "codemirror_mode": {
    "name": "ipython",
    "version": 3
   },
   "file_extension": ".py",
   "mimetype": "text/x-python",
   "name": "python",
   "nbconvert_exporter": "python",
   "pygments_lexer": "ipython3",
   "version": "3.8.5"
  }
 },
 "nbformat": 4,
 "nbformat_minor": 5
}
