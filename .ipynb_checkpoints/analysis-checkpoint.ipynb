{
 "cells": [
  {
   "cell_type": "markdown",
   "id": "indie-society",
   "metadata": {},
   "source": [
    "# Data and Analysis Plan: Predicting the Impact of Ocean Acidification on Coral Reefs in the Great Barrier Reef\n",
    "\n",
    "### Team 35\n",
    "- Sophie Louie\n",
    "- Angelina Shalupova\n",
    "\n",
    "\n",
    "### Project Goal:"
   ]
  },
  {
   "cell_type": "markdown",
   "id": "oriented-feedback",
   "metadata": {},
   "source": [
    "## Data\n",
    "\n",
    "### Overview\n",
    "\n",
    "#### Pipeline Overview\n",
    "\n",
    "`get_ph_and_cO2()`:\n",
    "    This function obtains seawater pH levels and CO2 levels from a coral sample from the Great Barrier Reef and creates a clean DataFrame. \n",
    "    Source: https://www.ncdc.noaa.gov/paleo-search/study/10425"
   ]
  },
  {
   "cell_type": "markdown",
   "id": "amazing-communication",
   "metadata": {},
   "source": [
    "## Pipeline"
   ]
  },
  {
   "cell_type": "markdown",
   "id": "considered-connection",
   "metadata": {},
   "source": []
  },
  {
   "cell_type": "code",
   "execution_count": 30,
   "id": "expensive-reward",
   "metadata": {},
   "outputs": [
    {
     "data": {
      "text/html": [
       "<div>\n",
       "<style scoped>\n",
       "    .dataframe tbody tr th:only-of-type {\n",
       "        vertical-align: middle;\n",
       "    }\n",
       "\n",
       "    .dataframe tbody tr th {\n",
       "        vertical-align: top;\n",
       "    }\n",
       "\n",
       "    .dataframe thead th {\n",
       "        text-align: right;\n",
       "    }\n",
       "</style>\n",
       "<table border=\"1\" class=\"dataframe\">\n",
       "  <thead>\n",
       "    <tr style=\"text-align: right;\">\n",
       "      <th></th>\n",
       "      <th>Year</th>\n",
       "      <th>Mg/Ca (x10-3)</th>\n",
       "      <th>Sr/Ca (x10-3)</th>\n",
       "      <th>Ba/Ca (x10-6)</th>\n",
       "      <th>pH</th>\n",
       "    </tr>\n",
       "  </thead>\n",
       "  <tbody>\n",
       "    <tr>\n",
       "      <th>0</th>\n",
       "      <td>1807.0</td>\n",
       "      <td>4.310</td>\n",
       "      <td>7.762</td>\n",
       "      <td>3.53</td>\n",
       "      <td>8.02</td>\n",
       "    </tr>\n",
       "    <tr>\n",
       "      <th>1</th>\n",
       "      <td>1812.0</td>\n",
       "      <td>4.139</td>\n",
       "      <td>7.910</td>\n",
       "      <td>4.03</td>\n",
       "      <td>8.13</td>\n",
       "    </tr>\n",
       "    <tr>\n",
       "      <th>2</th>\n",
       "      <td>1817.0</td>\n",
       "      <td>4.302</td>\n",
       "      <td>7.773</td>\n",
       "      <td>3.36</td>\n",
       "      <td>7.90</td>\n",
       "    </tr>\n",
       "    <tr>\n",
       "      <th>3</th>\n",
       "      <td>1822.0</td>\n",
       "      <td>4.101</td>\n",
       "      <td>7.792</td>\n",
       "      <td>3.71</td>\n",
       "      <td>8.05</td>\n",
       "    </tr>\n",
       "    <tr>\n",
       "      <th>4</th>\n",
       "      <td>1827.0</td>\n",
       "      <td>4.249</td>\n",
       "      <td>7.745</td>\n",
       "      <td>3.31</td>\n",
       "      <td>8.15</td>\n",
       "    </tr>\n",
       "    <tr>\n",
       "      <th>...</th>\n",
       "      <td>...</td>\n",
       "      <td>...</td>\n",
       "      <td>...</td>\n",
       "      <td>...</td>\n",
       "      <td>...</td>\n",
       "    </tr>\n",
       "    <tr>\n",
       "      <th>87</th>\n",
       "      <td>2000.0</td>\n",
       "      <td>4.120</td>\n",
       "      <td>7.628</td>\n",
       "      <td>3.48</td>\n",
       "      <td>7.81</td>\n",
       "    </tr>\n",
       "    <tr>\n",
       "      <th>88</th>\n",
       "      <td>2001.0</td>\n",
       "      <td>4.160</td>\n",
       "      <td>7.653</td>\n",
       "      <td>3.46</td>\n",
       "      <td>7.76</td>\n",
       "    </tr>\n",
       "    <tr>\n",
       "      <th>89</th>\n",
       "      <td>2002.0</td>\n",
       "      <td>4.238</td>\n",
       "      <td>7.663</td>\n",
       "      <td>3.10</td>\n",
       "      <td>8.04</td>\n",
       "    </tr>\n",
       "    <tr>\n",
       "      <th>90</th>\n",
       "      <td>2003.0</td>\n",
       "      <td>4.196</td>\n",
       "      <td>7.752</td>\n",
       "      <td>4.40</td>\n",
       "      <td>8.03</td>\n",
       "    </tr>\n",
       "    <tr>\n",
       "      <th>91</th>\n",
       "      <td>2004.0</td>\n",
       "      <td>4.108</td>\n",
       "      <td>7.691</td>\n",
       "      <td>22.16</td>\n",
       "      <td>7.66</td>\n",
       "    </tr>\n",
       "  </tbody>\n",
       "</table>\n",
       "<p>92 rows × 5 columns</p>\n",
       "</div>"
      ],
      "text/plain": [
       "      Year  Mg/Ca (x10-3)  Sr/Ca (x10-3)  Ba/Ca (x10-6)    pH\n",
       "0   1807.0          4.310          7.762           3.53  8.02\n",
       "1   1812.0          4.139          7.910           4.03  8.13\n",
       "2   1817.0          4.302          7.773           3.36  7.90\n",
       "3   1822.0          4.101          7.792           3.71  8.05\n",
       "4   1827.0          4.249          7.745           3.31  8.15\n",
       "..     ...            ...            ...            ...   ...\n",
       "87  2000.0          4.120          7.628           3.48  7.81\n",
       "88  2001.0          4.160          7.653           3.46  7.76\n",
       "89  2002.0          4.238          7.663           3.10  8.04\n",
       "90  2003.0          4.196          7.752           4.40  8.03\n",
       "91  2004.0          4.108          7.691          22.16  7.66\n",
       "\n",
       "[92 rows x 5 columns]"
      ]
     },
     "execution_count": 30,
     "metadata": {},
     "output_type": "execute_result"
    }
   ],
   "source": [
    "import pandas as pd\n",
    "from datetime import datetime\n",
    "\n",
    "def get_ph_and_co2():\n",
    "    \"\"\" Gets and cleans DataFrame of seawater ph and CO2 levels from GBR sample\n",
    "    \n",
    "    Returns:\n",
    "        df_ph_co2 (pd.DataFrame): \n",
    "    \"\"\"\n",
    "    df_ph_co2 = pd.read_csv('arlington2009.csv')\n",
    "    df_ph_co2.dropna(inplace=True)\n",
    "    df_ph_co2.head()\n",
    "\n",
    "    del df_ph_co2['SampleID']\n",
    "    del df_ph_co2['        d13C (per mil VPDB) *c']\n",
    "    del df_ph_co2['        d18O (per mil VPDB) *c']\n",
    "    del df_ph_co2['        d11B (per mil) *d']\n",
    "    del df_ph_co2['2sigma']\n",
    "    del df_ph_co2['   2sigma mean *e']\n",
    "    df_ph_co2.columns = ['Year', 'Mg/Ca (x10-3)', 'Sr/Ca (x10-3)', 'Ba/Ca (x10-6)', 'pH']\n",
    "\n",
    "    return df_ph_co2\n",
    "\n",
    "    \n",
    "df_ph_co2 = get_ph_and_co2()"
   ]
  },
  {
   "cell_type": "markdown",
   "id": "acoustic-notion",
   "metadata": {},
   "source": [
    "## Data Visualization"
   ]
  },
  {
   "cell_type": "markdown",
   "id": "moving-sheffield",
   "metadata": {},
   "source": [
    "pH and CO2 changes over the years:"
   ]
  },
  {
   "cell_type": "code",
   "execution_count": null,
   "id": "underlying-vehicle",
   "metadata": {},
   "outputs": [],
   "source": [
    "# graph"
   ]
  },
  {
   "cell_type": "code",
   "execution_count": null,
   "id": "blessed-scenario",
   "metadata": {},
   "outputs": [],
   "source": [
    "# corr matrix"
   ]
  },
  {
   "cell_type": "markdown",
   "id": "equipped-closing",
   "metadata": {},
   "source": [
    "## Analysis Plan"
   ]
  }
 ],
 "metadata": {
  "kernelspec": {
   "display_name": "Python 3",
   "language": "python",
   "name": "python3"
  },
  "language_info": {
   "codemirror_mode": {
    "name": "ipython",
    "version": 3
   },
   "file_extension": ".py",
   "mimetype": "text/x-python",
   "name": "python",
   "nbconvert_exporter": "python",
   "pygments_lexer": "ipython3",
   "version": "3.7.0"
  }
 },
 "nbformat": 4,
 "nbformat_minor": 5
}
