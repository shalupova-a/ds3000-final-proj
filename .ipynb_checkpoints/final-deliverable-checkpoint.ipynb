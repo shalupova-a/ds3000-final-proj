{
 "cells": [
  {
   "cell_type": "markdown",
   "metadata": {},
   "source": [
    "# Future Impact of Ocean Acidification on Coral Reefs in the Great Barrier Reef"
   ]
  },
  {
   "cell_type": "code",
   "execution_count": 1,
   "metadata": {},
   "outputs": [],
   "source": [
    "# imports\n",
    "import pandas as pd\n",
    "import numpy as np\n",
    "import seaborn as sns\n",
    "import matplotlib.pyplot as plt\n",
    "from sklearn.linear_model import LinearRegression\n",
    "from sklearn.metrics import r2_score"
   ]
  },
  {
   "cell_type": "code",
   "execution_count": 2,
   "metadata": {},
   "outputs": [],
   "source": [
    "def plot_regression(x, y, x_f=None, y_f=None, title='', xlabel='', ylabel=''):\n",
    "    \"\"\"\n",
    "    Creates scatter plot with linear regression model, plots predicted points if passed in\n",
    "    \n",
    "    Args:\n",
    "        x (np.array): true x data\n",
    "        y (np.array): true y data\n",
    "        x_f (np.array): predicted x data (default=None)\n",
    "        y_f (np.array): predicted y data (default=None)\n",
    "        title (str): title of the plot\n",
    "    Returns:\n",
    "        intercept, coef (float, float): intercept and coef of the linear regression\n",
    "    \"\"\"\n",
    "    \n",
    "    reg = LinearRegression()\n",
    "    reg.fit(x, y)\n",
    "    y_pred = reg.predict(x)\n",
    "\n",
    "    # compute mean squared error\n",
    "    mse = ((y_pred - y) ** 2).mean()\n",
    "    r2 = r2_score(y_true=y, y_pred=y_pred)\n",
    "\n",
    "    # plot it\n",
    "    plt.scatter(x, y, label='observed')\n",
    "    plt.plot(x, y_pred, label='model (regression)')\n",
    "        \n",
    "    if x_f is not None and y_f is not None:\n",
    "        plt.scatter(x_f, y_f, label='predicted')\n",
    "        \n",
    "    plt.legend()\n",
    "\n",
    "    sns.set(font_scale=1.5)\n",
    "    plt.xlabel(xlabel)\n",
    "    plt.ylabel(ylabel)\n",
    "    plt.gcf().set_size_inches(10, 5)\n",
    "    plt.gca().title.set_text(title)\n",
    "\n",
    "    # print model   \n",
    "    intercept = reg.intercept_\n",
    "    coef = reg.coef_[0]\n",
    "    model_str = f'y = {intercept} + '\n",
    "    model_str += f'{coef} x'\n",
    "    \n",
    "    return (intercept, coef)"
   ]
  },
  {
   "cell_type": "markdown",
   "metadata": {},
   "source": [
    "## Predicting CO2\n",
    "\n",
    "Steps for predicting CO2:\n",
    "1. Get the CO2 dataframe (do not exclude values past 2004, since we need these to predict future values)\n",
    "2. Call plot_regression() to visualize this data and get linear regression model\n",
    "3. Predict CO2 emissions up to 2050 using this linear regression model and add data to df_co2_predicted\n",
    "4. Call plot_regression again to visualize old data and predicted data\n",
    "5. Combine df_co2 with df_co2_predicted into df_co2_future. This can now be used to predict pH."
   ]
  },
  {
   "cell_type": "code",
   "execution_count": 3,
   "metadata": {
    "scrolled": true
   },
   "outputs": [
    {
     "data": {
      "text/html": [
       "<div>\n",
       "<style scoped>\n",
       "    .dataframe tbody tr th:only-of-type {\n",
       "        vertical-align: middle;\n",
       "    }\n",
       "\n",
       "    .dataframe tbody tr th {\n",
       "        vertical-align: top;\n",
       "    }\n",
       "\n",
       "    .dataframe thead th {\n",
       "        text-align: right;\n",
       "    }\n",
       "</style>\n",
       "<table border=\"1\" class=\"dataframe\">\n",
       "  <thead>\n",
       "    <tr style=\"text-align: right;\">\n",
       "      <th>10</th>\n",
       "      <th>CO2 emissions (MtC)</th>\n",
       "    </tr>\n",
       "    <tr>\n",
       "      <th>Year</th>\n",
       "      <th></th>\n",
       "    </tr>\n",
       "  </thead>\n",
       "  <tbody>\n",
       "    <tr>\n",
       "      <th>1959</th>\n",
       "      <td>23</td>\n",
       "    </tr>\n",
       "    <tr>\n",
       "      <th>1960</th>\n",
       "      <td>24</td>\n",
       "    </tr>\n",
       "    <tr>\n",
       "      <th>1961</th>\n",
       "      <td>25</td>\n",
       "    </tr>\n",
       "    <tr>\n",
       "      <th>1962</th>\n",
       "      <td>26</td>\n",
       "    </tr>\n",
       "    <tr>\n",
       "      <th>1963</th>\n",
       "      <td>28</td>\n",
       "    </tr>\n",
       "  </tbody>\n",
       "</table>\n",
       "</div>"
      ],
      "text/plain": [
       "10    CO2 emissions (MtC)\n",
       "Year                     \n",
       "1959                   23\n",
       "1960                   24\n",
       "1961                   25\n",
       "1962                   26\n",
       "1963                   28"
      ]
     },
     "execution_count": 3,
     "metadata": {},
     "output_type": "execute_result"
    }
   ],
   "source": [
    "def get_australia_co2(trim_year=False):\n",
    "    \"\"\"Gets and cleans historic carbon emmissions data of Autralia into a DataFrame\n",
    "    \n",
    "    Args:\n",
    "        trim_year (bool): do we want to exclude data not within 1959-2004? (default=False)\n",
    "    \n",
    "    Returns:\n",
    "        df_co2 (DataFrame) : DataFrame containing the cleaned carbon emissions data\n",
    "    \"\"\"\n",
    "    df_co2 = pd.read_csv('National_Carbon_Emissions_2020v1.0.csv')\n",
    "    \n",
    "    # Set columns to row 10\n",
    "    df_co2.columns = df_co2.iloc[10]\n",
    "    \n",
    "    # remove all rows before row 10\n",
    "    for index in df_co2.index:\n",
    "        if index < 10:\n",
    "            df_co2.drop(index, inplace=True)\n",
    "            \n",
    "    # Name the year column and delete nan values\n",
    "    df_co2.rename(columns={df_co2.columns[0]:'Year'}, inplace=True)\n",
    "    df_co2 = df_co2[df_co2['Year'].notna()]\n",
    "    \n",
    "    # Convert years to ints\n",
    "    df_co2['Year'] = pd.to_numeric(df_co2['Year'])\n",
    "    \n",
    "    if trim_year:\n",
    "        # we don't want data past 2004\n",
    "        bool_series = df_co2['Year'] <= 2004\n",
    "        df_co2 = df_co2.loc[bool_series, :]\n",
    "    \n",
    "    # set index to the year of sample taken, easier to compare to years of the other datasets\n",
    "    df_co2.set_index(['Year'], inplace=True)\n",
    "    \n",
    "    \n",
    "    # only use Australia's co2 emissions\n",
    "    df_co2 = df_co2.loc[:, df_co2.columns == 'Australia']\n",
    "    df_co2.rename(columns={df_co2.columns[0]:'CO2 emissions (MtC)'}, inplace=True)   \n",
    "    df_co2['CO2 emissions (MtC)'] = pd.to_numeric(df_co2['CO2 emissions (MtC)'])\n",
    "\n",
    "    \n",
    "    return df_co2\n",
    "\n",
    "df_co2 = get_australia_co2()\n",
    "df_co2.head()"
   ]
  },
  {
   "cell_type": "code",
   "execution_count": 4,
   "metadata": {
    "scrolled": false
   },
   "outputs": [
    {
     "data": {
      "image/png": "[encoded data removed]",
      "text/plain": [
       "<Figure size 720x360 with 1 Axes>"
      ]
     },
     "metadata": {
      "needs_background": "light"
     },
     "output_type": "display_data"
    }
   ],
   "source": [
    "x = df_co2.index.astype('Int64').values\n",
    "x = x.reshape((-1, 1))\n",
    "y_feat = 'CO2 emissions (MtC)'\n",
    "y = df_co2[y_feat]\n",
    "\n",
    "intercept, coef = plot_regression(x, y, title='Australia CO2 Emissions Over the Years', xlabel='Year', ylabel=y_feat)"
   ]
  },
  {
   "cell_type": "markdown",
   "metadata": {},
   "source": [
    "Formula for predicting CO2 emissions (y) for given year (x): y = -3247.941671073506 + 1.6696456901110523 x"
   ]
  },
  {
   "cell_type": "code",
   "execution_count": 5,
   "metadata": {},
   "outputs": [
    {
     "data": {
      "text/html": [
       "<div>\n",
       "<style scoped>\n",
       "    .dataframe tbody tr th:only-of-type {\n",
       "        vertical-align: middle;\n",
       "    }\n",
       "\n",
       "    .dataframe tbody tr th {\n",
       "        vertical-align: top;\n",
       "    }\n",
       "\n",
       "    .dataframe thead th {\n",
       "        text-align: right;\n",
       "    }\n",
       "</style>\n",
       "<table border=\"1\" class=\"dataframe\">\n",
       "  <thead>\n",
       "    <tr style=\"text-align: right;\">\n",
       "      <th></th>\n",
       "      <th>CO2 emissions (MtC)</th>\n",
       "    </tr>\n",
       "    <tr>\n",
       "      <th>Year</th>\n",
       "      <th></th>\n",
       "    </tr>\n",
       "  </thead>\n",
       "  <tbody>\n",
       "    <tr>\n",
       "      <th>2020</th>\n",
       "      <td>124.742623</td>\n",
       "    </tr>\n",
       "    <tr>\n",
       "      <th>2021</th>\n",
       "      <td>126.412269</td>\n",
       "    </tr>\n",
       "    <tr>\n",
       "      <th>2022</th>\n",
       "      <td>128.081914</td>\n",
       "    </tr>\n",
       "    <tr>\n",
       "      <th>2023</th>\n",
       "      <td>129.751560</td>\n",
       "    </tr>\n",
       "    <tr>\n",
       "      <th>2024</th>\n",
       "      <td>131.421206</td>\n",
       "    </tr>\n",
       "  </tbody>\n",
       "</table>\n",
       "</div>"
      ],
      "text/plain": [
       "      CO2 emissions (MtC)\n",
       "Year                     \n",
       "2020           124.742623\n",
       "2021           126.412269\n",
       "2022           128.081914\n",
       "2023           129.751560\n",
       "2024           131.421206"
      ]
     },
     "execution_count": 5,
     "metadata": {},
     "output_type": "execute_result"
    }
   ],
   "source": [
    "# predict until 2050\n",
    "\n",
    "df_co2_predicted = pd.DataFrame(columns = ['Year', y_feat])\n",
    "df_co2_predicted.set_index('Year', inplace=True)\n",
    "\n",
    "for i in range(2020, 2051):\n",
    "    formula = intercept + coef * i\n",
    "    df_co2_predicted.loc[i] = [formula]\n",
    "\n",
    "df_co2_predicted.head()"
   ]
  },
  {
   "cell_type": "code",
   "execution_count": 6,
   "metadata": {},
   "outputs": [
    {
     "data": {
      "text/plain": [
       "(-3247.941671073506, 1.6696456901110523)"
      ]
     },
     "execution_count": 6,
     "metadata": {},
     "output_type": "execute_result"
    },
    {
     "data": {
      "image/png": "[encoded data removed]",
      "text/plain": [
       "<Figure size 720x360 with 1 Axes>"
      ]
     },
     "metadata": {},
     "output_type": "display_data"
    }
   ],
   "source": [
    "x_f = df_co2_predicted.index.astype('Int64').values\n",
    "y_f = df_co2_predicted[y_feat]\n",
    "plot_regression(x, y, x_f, y_f, title='Predicting Future CO2 Emissions in Australia', xlabel='Year', ylabel=y_feat)"
   ]
  },
  {
   "cell_type": "code",
   "execution_count": 7,
   "metadata": {},
   "outputs": [
    {
     "data": {
      "text/html": [
       "<div>\n",
       "<style scoped>\n",
       "    .dataframe tbody tr th:only-of-type {\n",
       "        vertical-align: middle;\n",
       "    }\n",
       "\n",
       "    .dataframe tbody tr th {\n",
       "        vertical-align: top;\n",
       "    }\n",
       "\n",
       "    .dataframe thead th {\n",
       "        text-align: right;\n",
       "    }\n",
       "</style>\n",
       "<table border=\"1\" class=\"dataframe\">\n",
       "  <thead>\n",
       "    <tr style=\"text-align: right;\">\n",
       "      <th>10</th>\n",
       "      <th>CO2 emissions (MtC)</th>\n",
       "    </tr>\n",
       "    <tr>\n",
       "      <th>Year</th>\n",
       "      <th></th>\n",
       "    </tr>\n",
       "  </thead>\n",
       "  <tbody>\n",
       "    <tr>\n",
       "      <th>1959</th>\n",
       "      <td>23.000000</td>\n",
       "    </tr>\n",
       "    <tr>\n",
       "      <th>1960</th>\n",
       "      <td>24.000000</td>\n",
       "    </tr>\n",
       "    <tr>\n",
       "      <th>1961</th>\n",
       "      <td>25.000000</td>\n",
       "    </tr>\n",
       "    <tr>\n",
       "      <th>1962</th>\n",
       "      <td>26.000000</td>\n",
       "    </tr>\n",
       "    <tr>\n",
       "      <th>1963</th>\n",
       "      <td>28.000000</td>\n",
       "    </tr>\n",
       "    <tr>\n",
       "      <th>...</th>\n",
       "      <td>...</td>\n",
       "    </tr>\n",
       "    <tr>\n",
       "      <th>2046</th>\n",
       "      <td>168.153411</td>\n",
       "    </tr>\n",
       "    <tr>\n",
       "      <th>2047</th>\n",
       "      <td>169.823057</td>\n",
       "    </tr>\n",
       "    <tr>\n",
       "      <th>2048</th>\n",
       "      <td>171.492702</td>\n",
       "    </tr>\n",
       "    <tr>\n",
       "      <th>2049</th>\n",
       "      <td>173.162348</td>\n",
       "    </tr>\n",
       "    <tr>\n",
       "      <th>2050</th>\n",
       "      <td>174.831994</td>\n",
       "    </tr>\n",
       "  </tbody>\n",
       "</table>\n",
       "<p>92 rows × 1 columns</p>\n",
       "</div>"
      ],
      "text/plain": [
       "10    CO2 emissions (MtC)\n",
       "Year                     \n",
       "1959            23.000000\n",
       "1960            24.000000\n",
       "1961            25.000000\n",
       "1962            26.000000\n",
       "1963            28.000000\n",
       "...                   ...\n",
       "2046           168.153411\n",
       "2047           169.823057\n",
       "2048           171.492702\n",
       "2049           173.162348\n",
       "2050           174.831994\n",
       "\n",
       "[92 rows x 1 columns]"
      ]
     },
     "execution_count": 7,
     "metadata": {},
     "output_type": "execute_result"
    }
   ],
   "source": [
    "# add predicted values to df_co2\n",
    "df_co2_future = pd.concat([df_co2, df_co2_predicted])\n",
    "\n",
    "df_co2_future"
   ]
  },
  {
   "cell_type": "markdown",
   "metadata": {},
   "source": [
    "## Predicting pH\n",
    "\n",
    "Steps for predicting pH:\n",
    "1. Create df_ph_co2 with pH data (1959 - 2004) and df_co2\n",
    "2. Call plot_regression() to visualize this data and get linear regression model\n",
    "3. Predict pH emissions up to 2050 using this linear regression model and add data to df_pH_predicted\n",
    "4. Call plot_regression again to visualize old data and predicted data\n",
    "5. Combine df_pH with df_pH_predicted into df_pH_future. This can now be used to predict pH."
   ]
  },
  {
   "cell_type": "code",
   "execution_count": 28,
   "metadata": {},
   "outputs": [
    {
     "data": {
      "text/html": [
       "<div>\n",
       "<style scoped>\n",
       "    .dataframe tbody tr th:only-of-type {\n",
       "        vertical-align: middle;\n",
       "    }\n",
       "\n",
       "    .dataframe tbody tr th {\n",
       "        vertical-align: top;\n",
       "    }\n",
       "\n",
       "    .dataframe thead th {\n",
       "        text-align: right;\n",
       "    }\n",
       "</style>\n",
       "<table border=\"1\" class=\"dataframe\">\n",
       "  <thead>\n",
       "    <tr style=\"text-align: right;\">\n",
       "      <th></th>\n",
       "      <th>pH</th>\n",
       "      <th>CO2 emissions (MtC)</th>\n",
       "    </tr>\n",
       "    <tr>\n",
       "      <th>Year</th>\n",
       "      <th></th>\n",
       "      <th></th>\n",
       "    </tr>\n",
       "  </thead>\n",
       "  <tbody>\n",
       "    <tr>\n",
       "      <th>1959</th>\n",
       "      <td>7.94</td>\n",
       "      <td>23</td>\n",
       "    </tr>\n",
       "    <tr>\n",
       "      <th>1960</th>\n",
       "      <td>8.01</td>\n",
       "      <td>24</td>\n",
       "    </tr>\n",
       "    <tr>\n",
       "      <th>1961</th>\n",
       "      <td>7.94</td>\n",
       "      <td>25</td>\n",
       "    </tr>\n",
       "    <tr>\n",
       "      <th>1962</th>\n",
       "      <td>7.90</td>\n",
       "      <td>26</td>\n",
       "    </tr>\n",
       "    <tr>\n",
       "      <th>1963</th>\n",
       "      <td>7.95</td>\n",
       "      <td>28</td>\n",
       "    </tr>\n",
       "  </tbody>\n",
       "</table>\n",
       "</div>"
      ],
      "text/plain": [
       "        pH  CO2 emissions (MtC)\n",
       "Year                           \n",
       "1959  7.94                   23\n",
       "1960  8.01                   24\n",
       "1961  7.94                   25\n",
       "1962  7.90                   26\n",
       "1963  7.95                   28"
      ]
     },
     "execution_count": 28,
     "metadata": {},
     "output_type": "execute_result"
    }
   ],
   "source": [
    "def get_ph_and_co2(df_co2):\n",
    "    \"\"\" Gets pH information and creates combined dataframe with historical co2\n",
    "    \n",
    "    Args:\n",
    "        df_co2 (pd.DataFrame) : dataframe of past future co2 emissions until 2004\n",
    "    \n",
    "    Returns:\n",
    "        df_ph_co2 (pd.DataFrame): dataframe of past \n",
    "    \"\"\"\n",
    "    df_ph_co2 = pd.read_csv('arlington2009.csv')\n",
    "    df_ph_co2.dropna(inplace=True)\n",
    "\n",
    "    # remove unimportant columns\n",
    "    del df_ph_co2['SampleID']\n",
    "    del df_ph_co2['        d13C (per mil VPDB) *c']\n",
    "    del df_ph_co2['        d18O (per mil VPDB) *c']\n",
    "    del df_ph_co2['        d11B (per mil) *d']\n",
    "    del df_ph_co2['2sigma']\n",
    "    del df_ph_co2['   2sigma mean *e']\n",
    "    del df_ph_co2['      Mg/Ca (x10-3) *b']\n",
    "    del df_ph_co2['       Sr/Ca (x10-3) *b']\n",
    "    del df_ph_co2['      Ba/Ca (x10-6)  *b']\n",
    "    df_ph_co2.columns = ['Year', 'pH']\n",
    "    \n",
    "    \n",
    "    bool_series = df_ph_co2['Year'] >= 1959\n",
    "    df_ph_co2 = df_ph_co2.loc[bool_series, :]\n",
    "    \n",
    "    bool_series = df_ph_co2['Year'] <= 2004\n",
    "    df_ph_co2 = df_ph_co2.loc[bool_series, :]\n",
    "    \n",
    "    # append co2 dataframe to get combined info (both pH and co2)\n",
    "    df_co2.reset_index(inplace=True)\n",
    "    df_ph_co2 = pd.merge(df_ph_co2, df_co2, on='Year', how='outer')\n",
    "    df_ph_co2 = df_ph_co2.astype({\"Year\": int})\n",
    "    \n",
    "    # set index to the year of sample taken, easier to compare to years of the other datasets\n",
    "    df_ph_co2.set_index(['Year'], inplace=True)\n",
    "    \n",
    "\n",
    "    return df_ph_co2\n",
    "\n",
    "    \n",
    "df_ph_co2 = get_ph_and_co2(get_australia_co2(True))\n",
    "df_ph_co2.head()"
   ]
  },
  {
   "cell_type": "code",
   "execution_count": 70,
   "metadata": {},
   "outputs": [],
   "source": [
    "def create_prev_mean(df_ph_co2):\n",
    "    \"\"\"alters given dataframe by adding new \"mean\" column that represents the mean of previous 5 years' values\n",
    "    \n",
    "    Args:\n",
    "        df_ph_co2 (pd.DataFrame) : dataframe of pH and CO2 emissions per year (1959 - 2004)\n",
    "                                    * year is not index, reset index before using method *\n",
    "    \n",
    "    Returns:\n",
    "        df_ph_co2_mean (pd.DataFrame) : dataframe altered with new \"mean\" for pH col\n",
    "    \"\"\"\n",
    "\n",
    "    df_ph_co2_mean = pd.DataFrame(columns = ['Year', 'pH', 'CO2 emissions (MtC)', 'pH mean'])\n",
    "    df_ph_co2_mean.set_index('Year', inplace=True)    \n",
    "    year_list = df_ph_co2.index.unique()\n",
    "    \n",
    "    for i, year in enumerate(year_list):\n",
    "        \n",
    "        # years less than 5 are weird because they don't prev 5 years' data, so take mean of available years\n",
    "        if i < 5:\n",
    "            ph_sum = 0\n",
    "            co2_sum = 0\n",
    "            \n",
    "            # if this is the very first entry, we just set the mean to current entry\n",
    "            if i == 0:\n",
    "                ph_mean = df_ph_co2.iloc[i, :]['pH']\n",
    "            else:\n",
    "                for idx in range(0, i):\n",
    "\n",
    "                    # year = index 0\n",
    "                    # pH = index 1\n",
    "                    # co2 = index 2\n",
    "                    data = df_ph_co2.iloc[idx, :]\n",
    "                    ph_sum += data['pH']\n",
    "\n",
    "                ph_mean = ph_sum / i\n",
    "                    \n",
    "        else:\n",
    "            ph_sum = 0\n",
    "            # the 5 previous years\n",
    "            for idx in range(i - 5, i):\n",
    "                \n",
    "                data = df_ph_co2.iloc[idx, :]\n",
    "                ph_sum += data['pH']\n",
    "            \n",
    "            ph_mean = ph_sum / 5\n",
    "        \n",
    "        df_ph_co2_mean.loc[year] = [df_ph_co2.loc[year]['pH'], df_ph_co2.loc[year]['CO2 emissions (MtC)'], ph_mean]\n",
    "\n",
    "    \n",
    "    return df_ph_co2_mean"
   ]
  },
  {
   "cell_type": "code",
   "execution_count": 80,
   "metadata": {},
   "outputs": [
    {
     "data": {
      "text/html": [
       "<div>\n",
       "<style scoped>\n",
       "    .dataframe tbody tr th:only-of-type {\n",
       "        vertical-align: middle;\n",
       "    }\n",
       "\n",
       "    .dataframe tbody tr th {\n",
       "        vertical-align: top;\n",
       "    }\n",
       "\n",
       "    .dataframe thead th {\n",
       "        text-align: right;\n",
       "    }\n",
       "</style>\n",
       "<table border=\"1\" class=\"dataframe\">\n",
       "  <thead>\n",
       "    <tr style=\"text-align: right;\">\n",
       "      <th></th>\n",
       "      <th>pH</th>\n",
       "      <th>CO2 emissions (MtC)</th>\n",
       "      <th>pH mean</th>\n",
       "    </tr>\n",
       "    <tr>\n",
       "      <th>Year</th>\n",
       "      <th></th>\n",
       "      <th></th>\n",
       "      <th></th>\n",
       "    </tr>\n",
       "  </thead>\n",
       "  <tbody>\n",
       "    <tr>\n",
       "      <th>1959</th>\n",
       "      <td>7.94</td>\n",
       "      <td>23.0</td>\n",
       "      <td>7.940000</td>\n",
       "    </tr>\n",
       "    <tr>\n",
       "      <th>1960</th>\n",
       "      <td>8.01</td>\n",
       "      <td>24.0</td>\n",
       "      <td>7.940000</td>\n",
       "    </tr>\n",
       "    <tr>\n",
       "      <th>1961</th>\n",
       "      <td>7.94</td>\n",
       "      <td>25.0</td>\n",
       "      <td>7.975000</td>\n",
       "    </tr>\n",
       "    <tr>\n",
       "      <th>1962</th>\n",
       "      <td>7.90</td>\n",
       "      <td>26.0</td>\n",
       "      <td>7.963333</td>\n",
       "    </tr>\n",
       "    <tr>\n",
       "      <th>1963</th>\n",
       "      <td>7.95</td>\n",
       "      <td>28.0</td>\n",
       "      <td>7.947500</td>\n",
       "    </tr>\n",
       "  </tbody>\n",
       "</table>\n",
       "</div>"
      ],
      "text/plain": [
       "        pH  CO2 emissions (MtC)   pH mean\n",
       "Year                                     \n",
       "1959  7.94                 23.0  7.940000\n",
       "1960  8.01                 24.0  7.940000\n",
       "1961  7.94                 25.0  7.975000\n",
       "1962  7.90                 26.0  7.963333\n",
       "1963  7.95                 28.0  7.947500"
      ]
     },
     "execution_count": 80,
     "metadata": {},
     "output_type": "execute_result"
    }
   ],
   "source": [
    "df_ph_co2_mean = create_prev_mean(df_ph_co2)\n",
    "df_ph_co2_mean.head()"
   ]
  },
  {
   "cell_type": "code",
   "execution_count": 77,
   "metadata": {},
   "outputs": [
    {
     "name": "stdout",
     "output_type": "stream",
     "text": [
      "pH = 15.271753931544882 + -0.0036947271045328477 Year\n"
     ]
    },
    {
     "data": {
      "image/png": "[encoded data removed]",
      "text/plain": [
       "<Figure size 720x360 with 1 Axes>"
      ]
     },
     "metadata": {},
     "output_type": "display_data"
    }
   ],
   "source": [
    "x = df_ph_co2.index.astype('Int64').values\n",
    "x = x.reshape((-1, 1))\n",
    "y_feat = 'pH'\n",
    "y = df_ph_co2[y_feat].values\n",
    "\n",
    "intercept, coef = plot_regression(x, y, title='Australia Seawater pH Level Over the Years', xlabel='Year', ylabel=y_feat)\n",
    "print(f'pH = {intercept} + {coef} Year')"
   ]
  },
  {
   "cell_type": "code",
   "execution_count": 79,
   "metadata": {},
   "outputs": [
    {
     "name": "stdout",
     "output_type": "stream",
     "text": [
      "Formula for prediciting pH level of Australian seawater: \n",
      "pH = 8.90 + -0.00 CO2 emissions (MtC) + -0.10 pH mean\n",
      "r2 = 0.203\n"
     ]
    }
   ],
   "source": [
    "# initialize regression object\n",
    "reg = LinearRegression()\n",
    "\n",
    "x_feat_list = ['CO2 emissions (MtC)', 'pH mean']\n",
    "y_feat = 'pH'\n",
    "# get target variable\n",
    "x = df_ph_co2_mean.loc[:, x_feat_list].values\n",
    "y = df_ph_co2_mean.loc[:, y_feat].values\n",
    "    \n",
    "# fit regression\n",
    "reg.fit(x, y)\n",
    "\n",
    "# compute / store r2\n",
    "y_pred = reg.predict(x)\n",
    "    \n",
    "# print model\n",
    "model_str = y_feat + f' = {reg.intercept_:.2f}'\n",
    "for feat, coef in zip(x_feat_list, reg.coef_):\n",
    "    model_str += f' + {coef:.2f} {feat}'\n",
    "print('Formula for prediciting pH level of Australian seawater: \\n' + model_str)\n",
    "\n",
    "# compute r2\n",
    "r2 = r2_score(y_true=y, y_pred=y_pred)\n",
    "print(f'r2 = {r2:.3}')"
   ]
  },
  {
   "cell_type": "code",
   "execution_count": null,
   "metadata": {},
   "outputs": [],
   "source": [
    "# predict until 2050"
   ]
  }
 ],
 "metadata": {
  "kernelspec": {
   "display_name": "Python 3",
   "language": "python",
   "name": "python3"
  },
  "language_info": {
   "codemirror_mode": {
    "name": "ipython",
    "version": 3
   },
   "file_extension": ".py",
   "mimetype": "text/x-python",
   "name": "python",
   "nbconvert_exporter": "python",
   "pygments_lexer": "ipython3",
   "version": "3.7.0"
  }
 },
 "nbformat": 4,
 "nbformat_minor": 4
}
