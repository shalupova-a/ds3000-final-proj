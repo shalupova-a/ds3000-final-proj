{
 "cells": [
  {
   "cell_type": "markdown",
   "metadata": {},
   "source": [
    "# Future Impact of Ocean Acidification on Coral Reefs in the Great Barrier Reef\n",
    "Team 35 : Angelina Shalupova and Sophie Louie"
   ]
  },
  {
   "cell_type": "markdown",
   "metadata": {},
   "source": [
    "## Executive Summary\n",
    "Science has proven that an increase in carbon dioxide emissions into the atmosphere will inherently lower the pH of the ocean water. The lower the pH indicates the acidity of the water, more acidic water is detrimental to the health of many underwater organisms including coral which house millions of species. Our model predicts CO2 emissions until the year 2050 by taking into account the direction of the five previous years. The predicted CO2 data is then used as one of the factors to predict seawater pH (along side it's previous five years data). Finally, the pH and mean calcification rate of the five previous years is used to predict the future calcification rate of coral. Our model claims CO2 emissions will increase by 53 (MtC) as seen [here](#co2_cell), pH will decrease 0.0825 as seen [here](#ph_cell), and coral growth will decline by 0.2 (g/$cm^2$/yr) by the year 2050 as seen [here](#result_cell)."
   ]
  },
  {
   "cell_type": "markdown",
   "metadata": {},
   "source": [
    "## Introduction\n",
    "\n",
    "Carbon dioxide (CO2) emissions in the atmosphere have been increasing ever since the Industrial Revolution due to an increase of burning fossil fuels for energy. Not only is this increase the cause of global warming, it is also affecting the oceans. When the ocean absorbs CO2, various chemical reactions happen that lower the pH level of the ocean. This is known as ocean acidification. Since there has been an increase in CO2 in the atmosphere, the ocean has been absorbing more CO2, ultimately decreasing the pH levels: \"Since the beginning of the Industrial Revolution, the pH of surface ocean waters has fallen by 0.1 pH units. Since the pH scale, like the Richter scale, is logarithmic, this change represents approximately a 30 percent increase in acidity.\" ([Source](https://www.pmel.noaa.gov/co2/story/What+is+Ocean+Acidification%3F)).\n",
    "One ecosystem directly impacted by ocean acidification is coral reefs. Specifically, ocean acidification impacts coral calcification, which is a measure of coral growth. So, as pH levels decrease, so does coral calcification.\n",
    "\n",
    "\n",
    "We will use the Linear Regression machine learning technique to predict future coral growth. The result will only illustrate our predictions, however we hope that this information can be used to stimulate the creation of projects and guidelines to reduce carbon emissions in an effort to maintain ocean water pH and preserve millions of species."
   ]
  },
  {
   "cell_type": "markdown",
   "metadata": {},
   "source": [
    "## Data Description"
   ]
  },
  {
   "cell_type": "markdown",
   "metadata": {},
   "source": [
    "In this project, we will use 3 separate datasets and combine them into one. These datasets contain data from different ranges of years, so we will take data only from 1959-2004. \n",
    "\n",
    "The [first dataset](https://www.ncdc.noaa.gov/paleo-search/study/10425) obtains pH levels and CO2 levels from a long-lived Porites coral from the central Great Barrier Reef of Australia. We obtain the following information from this dataset:\n",
    "- Year (from 1800-2004)\n",
    "- seawater pH level \n",
    "- Ba/Ca\n",
    "- Mg/Ca\n",
    "- Sr/Ca\n",
    "\n",
    "The [second dataset](https://apps.aims.gov.au/metadata/view/ff433c10-ea4d-11dc-823c-00008a07204e) obtains annual coral calcification rates from samples from 328 colonies of massive Porites corals from 69 reefs along the Great Barrier Reef. The data is further subdivided into two periods: 1900-2005 contained all 328 colonies; 1572-2001 contained 10 long cores (from 7 reefs, colonies that covered all or most of the period). We obtain the following information from this dataset:\n",
    "\n",
    "- skeletal density (grams per cubic centimeter)\n",
    "- annual extension (linear growth, cm per year)\n",
    "- calcification rate (the product of skeletal density and annual extension; grams per square centimeter per year)\n",
    "\n",
    "The [third dataset](https://www.icos-cp.eu/science-and-impact/global-carbon-budget/2020) obtains global fossil CO2 emissions in million tonnes of carbon per year (1MtC = 1 million tonne of carbon = 3.664 million tonnes of CO2). This data spans 1959-2016. We obtain the following information from this dataset:\n",
    "- MtC/year per country\n",
    "\n",
    "#### Pipeline Overview\n",
    "\n",
    "`get_ph_and_cO2()`:\n",
    "    This function obtains seawater pH levels and CO2 levels from a coral sample from the Great Barrier Reef and creates a clean DataFrame. \n",
    "    Source: https://www.ncdc.noaa.gov/paleo-search/study/10425\n",
    "\n",
    "`get_coral_calc()`:\n",
    "    This function obtains and collects the coral calcification information from the Great Barrier Reef in a DataFrame.\n",
    "    Source: https://apps.aims.gov.au/metadata/view/ff433c10-ea4d-11dc-823c-00008a07204e\n",
    "\n",
    "`get_co2_per_capita()`:\n",
    "    This function obtains and collects the carbon emissions per territory data of Australia into a DataFrame.\n",
    "    Source: https://www.icos-cp.eu/science-and-impact/global-carbon-budget/2020\n",
    "\n",
    "**The data is cleaned within these methods. We believe this is a viable option given the quality of data we obtained because the data is provided as a csv that is previously cleaned. We removed columns that were not important to our prediction model and renamed column titles to better fit the information we want to convey from our dataframe.**"
   ]
  },
  {
   "cell_type": "code",
   "execution_count": 1,
   "metadata": {
    "collapsed": true
   },
   "outputs": [
    {
     "data": {
      "text/html": [
       "<div>\n",
       "<style scoped>\n",
       "    .dataframe tbody tr th:only-of-type {\n",
       "        vertical-align: middle;\n",
       "    }\n",
       "\n",
       "    .dataframe tbody tr th {\n",
       "        vertical-align: top;\n",
       "    }\n",
       "\n",
       "    .dataframe thead th {\n",
       "        text-align: right;\n",
       "    }\n",
       "</style>\n",
       "<table border=\"1\" class=\"dataframe\">\n",
       "  <thead>\n",
       "    <tr style=\"text-align: right;\">\n",
       "      <th></th>\n",
       "      <th>Mg/Ca (x10-3)</th>\n",
       "      <th>Sr/Ca (x10-3)</th>\n",
       "      <th>Ba/Ca (x10-6)</th>\n",
       "      <th>pH</th>\n",
       "    </tr>\n",
       "    <tr>\n",
       "      <th>Year</th>\n",
       "      <th></th>\n",
       "      <th></th>\n",
       "      <th></th>\n",
       "      <th></th>\n",
       "    </tr>\n",
       "  </thead>\n",
       "  <tbody>\n",
       "    <tr>\n",
       "      <th>1959.0</th>\n",
       "      <td>4.123</td>\n",
       "      <td>8.006</td>\n",
       "      <td>3.48</td>\n",
       "      <td>7.94</td>\n",
       "    </tr>\n",
       "    <tr>\n",
       "      <th>1960.0</th>\n",
       "      <td>3.980</td>\n",
       "      <td>8.073</td>\n",
       "      <td>3.34</td>\n",
       "      <td>8.01</td>\n",
       "    </tr>\n",
       "    <tr>\n",
       "      <th>1961.0</th>\n",
       "      <td>3.761</td>\n",
       "      <td>7.673</td>\n",
       "      <td>2.37</td>\n",
       "      <td>7.94</td>\n",
       "    </tr>\n",
       "    <tr>\n",
       "      <th>1962.0</th>\n",
       "      <td>4.004</td>\n",
       "      <td>7.749</td>\n",
       "      <td>3.34</td>\n",
       "      <td>7.90</td>\n",
       "    </tr>\n",
       "    <tr>\n",
       "      <th>1963.0</th>\n",
       "      <td>3.828</td>\n",
       "      <td>7.653</td>\n",
       "      <td>2.68</td>\n",
       "      <td>7.95</td>\n",
       "    </tr>\n",
       "  </tbody>\n",
       "</table>\n",
       "</div>"
      ],
      "text/plain": [
       "        Mg/Ca (x10-3)  Sr/Ca (x10-3)  Ba/Ca (x10-6)    pH\n",
       "Year                                                     \n",
       "1959.0          4.123          8.006           3.48  7.94\n",
       "1960.0          3.980          8.073           3.34  8.01\n",
       "1961.0          3.761          7.673           2.37  7.94\n",
       "1962.0          4.004          7.749           3.34  7.90\n",
       "1963.0          3.828          7.653           2.68  7.95"
      ]
     },
     "execution_count": 1,
     "metadata": {},
     "output_type": "execute_result"
    }
   ],
   "source": [
    "import pandas as pd\n",
    "from datetime import datetime\n",
    "\n",
    "def get_ph_and_co2():\n",
    "    \"\"\" Gets and cleans DataFrame of seawater ph and CO2 levels from GBR sample\n",
    "    \n",
    "    Returns:\n",
    "        df_ph_co2 (pd.DataFrame): \n",
    "    \"\"\"\n",
    "    df_ph_co2 = pd.read_csv('arlington2009.csv')\n",
    "    df_ph_co2.dropna(inplace=True)\n",
    "\n",
    "    del df_ph_co2['SampleID']\n",
    "    del df_ph_co2['        d13C (per mil VPDB) *c']\n",
    "    del df_ph_co2['        d18O (per mil VPDB) *c']\n",
    "    del df_ph_co2['        d11B (per mil) *d']\n",
    "    del df_ph_co2['2sigma']\n",
    "    del df_ph_co2['   2sigma mean *e']\n",
    "    df_ph_co2.columns = ['Year', 'Mg/Ca (x10-3)', 'Sr/Ca (x10-3)', 'Ba/Ca (x10-6)', 'pH']\n",
    "    \n",
    "    \n",
    "    bool_series = df_ph_co2['Year'] >= 1959\n",
    "    df_ph_co2 = df_ph_co2.loc[bool_series, :]\n",
    "    \n",
    "    bool_series = df_ph_co2['Year'] <= 2004\n",
    "    df_ph_co2 = df_ph_co2.loc[bool_series, :]\n",
    "    \n",
    "    # set index to the year of sample taken, easier to compare to years of the other datasets\n",
    "    df_ph_co2.set_index(['Year'], inplace=True)\n",
    "\n",
    "    return df_ph_co2\n",
    "\n",
    "    \n",
    "df_ph_co2 = get_ph_and_co2()\n",
    "df_ph_co2.head()"
   ]
  },
  {
   "cell_type": "code",
   "execution_count": 2,
   "metadata": {
    "collapsed": true
   },
   "outputs": [
    {
     "data": {
      "text/html": [
       "<div>\n",
       "<style scoped>\n",
       "    .dataframe tbody tr th:only-of-type {\n",
       "        vertical-align: middle;\n",
       "    }\n",
       "\n",
       "    .dataframe tbody tr th {\n",
       "        vertical-align: top;\n",
       "    }\n",
       "\n",
       "    .dataframe thead th {\n",
       "        text-align: right;\n",
       "    }\n",
       "</style>\n",
       "<table border=\"1\" class=\"dataframe\">\n",
       "  <thead>\n",
       "    <tr style=\"text-align: right;\">\n",
       "      <th></th>\n",
       "      <th>extension(cm/yr)</th>\n",
       "      <th>skel density(g/cm^3)</th>\n",
       "      <th>calc rate(g/cm^2/yr)</th>\n",
       "    </tr>\n",
       "    <tr>\n",
       "      <th>Year</th>\n",
       "      <th></th>\n",
       "      <th></th>\n",
       "      <th></th>\n",
       "    </tr>\n",
       "  </thead>\n",
       "  <tbody>\n",
       "    <tr>\n",
       "      <th>1959</th>\n",
       "      <td>1.329933</td>\n",
       "      <td>1.240402</td>\n",
       "      <td>1.620043</td>\n",
       "    </tr>\n",
       "    <tr>\n",
       "      <th>1960</th>\n",
       "      <td>1.329445</td>\n",
       "      <td>1.254033</td>\n",
       "      <td>1.633343</td>\n",
       "    </tr>\n",
       "    <tr>\n",
       "      <th>1961</th>\n",
       "      <td>1.308323</td>\n",
       "      <td>1.269448</td>\n",
       "      <td>1.625227</td>\n",
       "    </tr>\n",
       "    <tr>\n",
       "      <th>1962</th>\n",
       "      <td>1.308809</td>\n",
       "      <td>1.269242</td>\n",
       "      <td>1.626569</td>\n",
       "    </tr>\n",
       "    <tr>\n",
       "      <th>1963</th>\n",
       "      <td>1.411259</td>\n",
       "      <td>1.255344</td>\n",
       "      <td>1.728867</td>\n",
       "    </tr>\n",
       "  </tbody>\n",
       "</table>\n",
       "</div>"
      ],
      "text/plain": [
       "      extension(cm/yr)  skel density(g/cm^3)  calc rate(g/cm^2/yr)\n",
       "Year                                                              \n",
       "1959          1.329933              1.240402              1.620043\n",
       "1960          1.329445              1.254033              1.633343\n",
       "1961          1.308323              1.269448              1.625227\n",
       "1962          1.308809              1.269242              1.626569\n",
       "1963          1.411259              1.255344              1.728867"
      ]
     },
     "execution_count": 2,
     "metadata": {},
     "output_type": "execute_result"
    }
   ],
   "source": [
    "def get_coral_calc():\n",
    "    \"\"\"Obtains, cleans, and organizes the coral calficiation data into a DataFrame\n",
    "    \n",
    "    Returns:\n",
    "        df_coral (DataFrame) : DataFrame containing the cleaned coral calcification data (including all columns)\n",
    "    \"\"\"\n",
    "    df_coral = pd.read_csv(\"GBR-coral-calcification.csv\")\n",
    "    df_coral.dropna(axis=0, inplace=True)\n",
    "    \n",
    "    del df_coral['Reef']\n",
    "    df_coral.columns = ['Year', 'id', 'extension(cm/yr)', 'skel density(g/cm^3)', 'calc rate(g/cm^2/yr)']\n",
    "    \n",
    "    \n",
    "    bool_series = df_coral['Year'] >= 1959 \n",
    "    df_coral = df_coral.loc[bool_series, :]\n",
    "    \n",
    "    bool_series = df_coral['Year'] <= 2004\n",
    "    df_coral = df_coral.loc[bool_series, :]\n",
    "    \n",
    "    df_coral = df_coral.groupby('Year').mean()\n",
    "    \n",
    "    # set index to the year of sample taken, easier to compare to years of the other datasets\n",
    "    #df_coral.set_index(['Year'], inplace=True)\n",
    "    \n",
    "    return df_coral\n",
    "\n",
    "df_coral_calc = get_coral_calc()\n",
    "df_coral_calc.head()"
   ]
  },
  {
   "cell_type": "code",
   "execution_count": 3,
   "metadata": {
    "collapsed": true
   },
   "outputs": [
    {
     "data": {
      "text/html": [
       "<div>\n",
       "<style scoped>\n",
       "    .dataframe tbody tr th:only-of-type {\n",
       "        vertical-align: middle;\n",
       "    }\n",
       "\n",
       "    .dataframe tbody tr th {\n",
       "        vertical-align: top;\n",
       "    }\n",
       "\n",
       "    .dataframe thead th {\n",
       "        text-align: right;\n",
       "    }\n",
       "</style>\n",
       "<table border=\"1\" class=\"dataframe\">\n",
       "  <thead>\n",
       "    <tr style=\"text-align: right;\">\n",
       "      <th>10</th>\n",
       "      <th>CO2 emissions (MtC)</th>\n",
       "    </tr>\n",
       "    <tr>\n",
       "      <th>Year</th>\n",
       "      <th></th>\n",
       "    </tr>\n",
       "  </thead>\n",
       "  <tbody>\n",
       "    <tr>\n",
       "      <th>1959</th>\n",
       "      <td>23</td>\n",
       "    </tr>\n",
       "    <tr>\n",
       "      <th>1960</th>\n",
       "      <td>24</td>\n",
       "    </tr>\n",
       "    <tr>\n",
       "      <th>1961</th>\n",
       "      <td>25</td>\n",
       "    </tr>\n",
       "    <tr>\n",
       "      <th>1962</th>\n",
       "      <td>26</td>\n",
       "    </tr>\n",
       "    <tr>\n",
       "      <th>1963</th>\n",
       "      <td>28</td>\n",
       "    </tr>\n",
       "  </tbody>\n",
       "</table>\n",
       "</div>"
      ],
      "text/plain": [
       "10    CO2 emissions (MtC)\n",
       "Year                     \n",
       "1959                   23\n",
       "1960                   24\n",
       "1961                   25\n",
       "1962                   26\n",
       "1963                   28"
      ]
     },
     "execution_count": 3,
     "metadata": {},
     "output_type": "execute_result"
    }
   ],
   "source": [
    "def get_australia_co2():\n",
    "    \"\"\"Gets and cleans historic carbon emmissions data of Autralia into a DataFrame\n",
    "    \n",
    "    ReturnsL:\n",
    "        df_co2 (DataFrame) : DataFrame containing the cleaned carbon emissions data\n",
    "    \"\"\"\n",
    "    df_co2 = pd.read_csv('National_Carbon_Emissions_2020v1.0.csv')\n",
    "    \n",
    "    # Set columns to row 10\n",
    "    df_co2.columns = df_co2.iloc[10]\n",
    "    \n",
    "    # remove all rows before row 10\n",
    "    for index in df_co2.index:\n",
    "        if index < 10:\n",
    "            df_co2.drop(index, inplace=True)\n",
    "            \n",
    "    # Name the year column and delete nan values\n",
    "    df_co2.rename(columns={df_co2.columns[0]:'Year'}, inplace=True)\n",
    "    df_co2 = df_co2[df_co2['Year'].notna()]\n",
    "    \n",
    "    # Convert years to ints\n",
    "    df_co2['Year'] = pd.to_numeric(df_co2['Year'])\n",
    "    \n",
    "    # we don't want data past 2004\n",
    "    bool_series = df_co2['Year'] <= 2004\n",
    "    df_co2 = df_co2.loc[bool_series, :]\n",
    "    \n",
    "    # set index to the year of sample taken, easier to compare to years of the other datasets\n",
    "    df_co2.set_index(['Year'], inplace=True)\n",
    "    \n",
    "    \n",
    "    # only use Australia's co2 emissions\n",
    "    df_co2 = df_co2.loc[:, df_co2.columns == 'Australia']\n",
    "    df_co2.rename(columns={df_co2.columns[0]:'CO2 emissions (MtC)'}, inplace=True)   \n",
    "    df_co2['CO2 emissions (MtC)'] = pd.to_numeric(df_co2['CO2 emissions (MtC)'])\n",
    "\n",
    "    \n",
    "    return df_co2\n",
    "\n",
    "df_co2 = get_australia_co2()\n",
    "df_co2.head()"
   ]
  },
  {
   "cell_type": "code",
   "execution_count": 4,
   "metadata": {},
   "outputs": [
    {
     "data": {
      "text/html": [
       "<div>\n",
       "<style scoped>\n",
       "    .dataframe tbody tr th:only-of-type {\n",
       "        vertical-align: middle;\n",
       "    }\n",
       "\n",
       "    .dataframe tbody tr th {\n",
       "        vertical-align: top;\n",
       "    }\n",
       "\n",
       "    .dataframe thead th {\n",
       "        text-align: right;\n",
       "    }\n",
       "</style>\n",
       "<table border=\"1\" class=\"dataframe\">\n",
       "  <thead>\n",
       "    <tr style=\"text-align: right;\">\n",
       "      <th></th>\n",
       "      <th>Mg/Ca (x10-3)</th>\n",
       "      <th>Sr/Ca (x10-3)</th>\n",
       "      <th>Ba/Ca (x10-6)</th>\n",
       "      <th>pH</th>\n",
       "      <th>extension(cm/yr)</th>\n",
       "      <th>skel density(g/cm^3)</th>\n",
       "      <th>calc rate(g/cm^2/yr)</th>\n",
       "      <th>CO2 emissions (MtC)</th>\n",
       "    </tr>\n",
       "    <tr>\n",
       "      <th>Year</th>\n",
       "      <th></th>\n",
       "      <th></th>\n",
       "      <th></th>\n",
       "      <th></th>\n",
       "      <th></th>\n",
       "      <th></th>\n",
       "      <th></th>\n",
       "      <th></th>\n",
       "    </tr>\n",
       "  </thead>\n",
       "  <tbody>\n",
       "    <tr>\n",
       "      <th>1959.0</th>\n",
       "      <td>4.123</td>\n",
       "      <td>8.006</td>\n",
       "      <td>3.48</td>\n",
       "      <td>7.94</td>\n",
       "      <td>1.329933</td>\n",
       "      <td>1.240402</td>\n",
       "      <td>1.620043</td>\n",
       "      <td>23</td>\n",
       "    </tr>\n",
       "    <tr>\n",
       "      <th>1960.0</th>\n",
       "      <td>3.980</td>\n",
       "      <td>8.073</td>\n",
       "      <td>3.34</td>\n",
       "      <td>8.01</td>\n",
       "      <td>1.329445</td>\n",
       "      <td>1.254033</td>\n",
       "      <td>1.633343</td>\n",
       "      <td>24</td>\n",
       "    </tr>\n",
       "    <tr>\n",
       "      <th>1961.0</th>\n",
       "      <td>3.761</td>\n",
       "      <td>7.673</td>\n",
       "      <td>2.37</td>\n",
       "      <td>7.94</td>\n",
       "      <td>1.308323</td>\n",
       "      <td>1.269448</td>\n",
       "      <td>1.625227</td>\n",
       "      <td>25</td>\n",
       "    </tr>\n",
       "    <tr>\n",
       "      <th>1962.0</th>\n",
       "      <td>4.004</td>\n",
       "      <td>7.749</td>\n",
       "      <td>3.34</td>\n",
       "      <td>7.90</td>\n",
       "      <td>1.308809</td>\n",
       "      <td>1.269242</td>\n",
       "      <td>1.626569</td>\n",
       "      <td>26</td>\n",
       "    </tr>\n",
       "    <tr>\n",
       "      <th>1963.0</th>\n",
       "      <td>3.828</td>\n",
       "      <td>7.653</td>\n",
       "      <td>2.68</td>\n",
       "      <td>7.95</td>\n",
       "      <td>1.411259</td>\n",
       "      <td>1.255344</td>\n",
       "      <td>1.728867</td>\n",
       "      <td>28</td>\n",
       "    </tr>\n",
       "  </tbody>\n",
       "</table>\n",
       "</div>"
      ],
      "text/plain": [
       "        Mg/Ca (x10-3)  Sr/Ca (x10-3)  Ba/Ca (x10-6)    pH  extension(cm/yr)  \\\n",
       "Year                                                                          \n",
       "1959.0          4.123          8.006           3.48  7.94          1.329933   \n",
       "1960.0          3.980          8.073           3.34  8.01          1.329445   \n",
       "1961.0          3.761          7.673           2.37  7.94          1.308323   \n",
       "1962.0          4.004          7.749           3.34  7.90          1.308809   \n",
       "1963.0          3.828          7.653           2.68  7.95          1.411259   \n",
       "\n",
       "        skel density(g/cm^3)  calc rate(g/cm^2/yr)  CO2 emissions (MtC)  \n",
       "Year                                                                     \n",
       "1959.0              1.240402              1.620043                   23  \n",
       "1960.0              1.254033              1.633343                   24  \n",
       "1961.0              1.269448              1.625227                   25  \n",
       "1962.0              1.269242              1.626569                   26  \n",
       "1963.0              1.255344              1.728867                   28  "
      ]
     },
     "execution_count": 4,
     "metadata": {},
     "output_type": "execute_result"
    }
   ],
   "source": [
    "# merge datasets into one dataframe\n",
    "df_gbr = pd.concat([df_ph_co2, df_coral_calc, df_co2], axis=1, join='inner')\n",
    "df_gbr.head()"
   ]
  },
  {
   "cell_type": "code",
   "execution_count": 5,
   "metadata": {},
   "outputs": [
    {
     "data": {
      "image/png": "[encoded data removed]",
      "text/plain": [
       "<Figure size 1440x576 with 2 Axes>"
      ]
     },
     "metadata": {},
     "output_type": "display_data"
    }
   ],
   "source": [
    "import numpy as np\n",
    "import seaborn as sns\n",
    "import matplotlib.pyplot as plt\n",
    "\n",
    "sns.set()\n",
    "\n",
    "plt.subplot(1,2,1)\n",
    "plt.plot(df_gbr.index, df_gbr['CO2 emissions (MtC)'], color='lightcoral', linewidth=4)\n",
    "# set title and x/y labels of left subplot\n",
    "plt.xlabel('Year')\n",
    "plt.ylabel('CO2 emissions (MtC)')\n",
    "plt.gca().title.set_text('Australia CO2 Emissions Over the Years')\n",
    "\n",
    "plt.subplot(1,2,2)\n",
    "plt.plot(df_gbr.index, df_gbr['pH'], color='forestgreen', linewidth=4)\n",
    "# set title and x/y labels of left subplot\n",
    "plt.xlabel('Year')\n",
    "plt.ylabel('pH level of sampled coral')\n",
    "plt.gca().title.set_text('pH Level Change Over the Years')\n",
    "\n",
    "plt.gcf().set_size_inches(20, 8)"
   ]
  },
  {
   "cell_type": "markdown",
   "metadata": {},
   "source": [
    "The left graph depicts the change in carbon emissions produced by Australia from 1959 to 2004. The right graph illustrates the change in pH levels of coral sampled along the Great Barrier Reef from 1990 to 2004. It is well documented in science that as the ocean continues to absorb more CO2 in the atmosphere, the pH decreases and the ocean becomes more acidic.\n",
    "\n",
    "As seen on the left graph, the level of CO2 emissions increases as time goes on. The right graph mimics the expected effects of CO2 on ocean pH levels; as carbon emissions increase there is more carbon for the ocean to absorb so the pH decreases and the ocean becomes more acidic. The sudden drop in pH in 1998 and the subsequent rise is co-incident with a major coral bleaching event. However, the pH level is slowly but surely decreasing over time.\n",
    "As the CO2 in the atmosphere increases the ocean becomes more acidic and the pH decreases. Keep in mind that similar to global temperature, small change has SIGNIFICANT impact on the ecological balance of the earth.\n",
    "\n",
    "Many marine organisms (including coral) that produce calcium carbonate shells or skeletons are negatively impacted by increasing CO2 levels and decreasing pH in seawater. Based on these graphs, we can reason that increase of CO2 emissions is correlated with a steady decrease in pH of oceans. With supporting evidence, we know that CO2 is directly responsible for the decrease of the ocean's pH level."
   ]
  },
  {
   "cell_type": "code",
   "execution_count": 6,
   "metadata": {},
   "outputs": [],
   "source": [
    "def plot_corr_matrix(df_gbr, col1, col2):\n",
    "    # find all columns with a given prefix\n",
    "    column_list = [col for col in df_gbr.columns if col == col1 or col == col2]\n",
    "\n",
    "    # get dataframe corresponding to column_list\n",
    "    df = df_gbr.loc[:, column_list]\n",
    "    print(df.corr())\n",
    "\n",
    "    # plot\n",
    "    sns.heatmap(df.corr(), vmin=-1, vmax=1, cmap='coolwarm')\n",
    "    plt.gcf().set_size_inches(10, 10)\n",
    "\n"
   ]
  },
  {
   "cell_type": "code",
   "execution_count": 7,
   "metadata": {},
   "outputs": [
    {
     "name": "stdout",
     "output_type": "stream",
     "text": [
      "                           pH  CO2 emissions (MtC)\n",
      "pH                   1.000000            -0.447794\n",
      "CO2 emissions (MtC) -0.447794             1.000000\n"
     ]
    },
    {
     "data": {
      "image/png": "[encoded data removed]",
      "text/plain": [
       "<Figure size 720x720 with 2 Axes>"
      ]
     },
     "metadata": {},
     "output_type": "display_data"
    }
   ],
   "source": [
    "plot_corr_matrix(df_gbr, 'CO2 emissions (MtC)', 'pH')"
   ]
  },
  {
   "cell_type": "markdown",
   "metadata": {},
   "source": [
    "This correlation matrix indicates that as pH level increases, so does coral calcification. We know this to be true, since ocean acidification (a decrease in pH levels in the ocean), impacts carbon aragonite levels, which is what corals use to build their skeletons. "
   ]
  },
  {
   "cell_type": "code",
   "execution_count": 8,
   "metadata": {
    "scrolled": false
   },
   "outputs": [
    {
     "data": {
      "image/png": "[encoded data removed]",
      "text/plain": [
       "<Figure size 1440x576 with 2 Axes>"
      ]
     },
     "metadata": {},
     "output_type": "display_data"
    }
   ],
   "source": [
    "plt.subplot(1,2,1)\n",
    "plt.plot(df_gbr.index, df_gbr['pH'], color='orange', linewidth=4)\n",
    "# set title and x/y labels of left subplot\n",
    "plt.xlabel('Year')\n",
    "plt.ylabel('pH level of sampled coral')\n",
    "plt.gca().title.set_text('pH Level Change Over the Years')\n",
    "\n",
    "plt.subplot(1,2,2)\n",
    "plt.plot(df_gbr.index, df_gbr['calc rate(g/cm^2/yr)'], color='violet', linewidth=4)\n",
    "# set title and x/y labels of left subplot\n",
    "plt.xlabel('Year')\n",
    "plt.ylabel('Calcification rate (g/cm^2/yr)')\n",
    "plt.gca().title.set_text('Calcification Rate of Coral Over the Years')\n",
    "\n",
    "plt.gcf().set_size_inches(20, 8)"
   ]
  },
  {
   "cell_type": "markdown",
   "metadata": {},
   "source": [
    "The left graph illustrates the change in pH levels of coral sampled along the Great Barrier Reef from 1959 to 2004. The right graph depicts the change in the calcification rate of the sampled coral along the Great Barrier Reef. * The coral sampled for pH levels and growth/calcification rates are different. * For reference, coral calcification is the rate at which reef-building corals lay down their calcium carbonate skeleton. It is a measure of coral growth, which is important for healthy reef ecosystems.\n",
    "\n",
    "As discussed previously, the pH levels of the left graph reflect the change in carbon emissions and are ultimately decreasing across the time period. The right graph imitates the trend of pH; the the calcification rate increases as the pH increases and the ocean waters are more basic. This is followed by a decline and then a small climb beforing decreases again. The ocean is becoming more acidic as a result of the change in pH which is negatively impacts the abilit for coral to lay their skeleton and thus a depressed calcification rate.\n",
    "\n",
    "Decreased calcification activity leaves the coral vulnerable to disease, stunts their growth, affects their reproduction, and can impact other species that depend on the coral communities. Coral reefs, including the Great Barrier Reef, are facing unprecedented pressure worldwide due to climate change, changes in water quality from record breaking CO2 emissions among other equally important reasons. "
   ]
  },
  {
   "cell_type": "code",
   "execution_count": 9,
   "metadata": {},
   "outputs": [
    {
     "name": "stdout",
     "output_type": "stream",
     "text": [
      "                          pH  calc rate(g/cm^2/yr)\n",
      "pH                    1.0000                0.1637\n",
      "calc rate(g/cm^2/yr)  0.1637                1.0000\n"
     ]
    },
    {
     "data": {
      "image/png": "[encoded data removed]",
      "text/plain": [
       "<Figure size 720x720 with 2 Axes>"
      ]
     },
     "metadata": {},
     "output_type": "display_data"
    }
   ],
   "source": [
    "plot_corr_matrix(df_gbr, 'pH', 'calc rate(g/cm^2/yr)')"
   ]
  },
  {
   "cell_type": "markdown",
   "metadata": {},
   "source": [
    "This correlation matrix indicates that as pH level increases, so does coral calcification. We know this to be true, since ocean acidification (a decrease in pH levels in the ocean), impacts carbon aragonite levels, which is what corals use to build their skeletons. "
   ]
  },
  {
   "cell_type": "markdown",
   "metadata": {},
   "source": [
    "## Method\n",
    "\n",
    "- Project goal: Predict the calcification/growth rate of coral in the Great Barrier Reef\n",
    " \n",
    "To achieve this goal we implemented a multiple regression model. We believe this is the best fit regression model because we want to predict the value of a continuous outcome variable (coral calcification) based on the value of multiple predictor variables (CO2 emissions and pH). To complete this task we were forced to simplify the biological interactions in the world and neglect possible third-party catastrophies or events that can severly impact the ocean. Therefore, we make assumptions that the same societal policies will persist so that there is no drastic change in environmental preservation behavior/attitude, that only CO2 impacts pH level, and only CO2 and pH impact coral growth rate.\n",
    "\n",
    "As mentioned in the executive summary, we broadly chunked the completion of this method into three different sections. First, we use a linear regression model to predict future carbon dioxide emissions by considering the average of the five preceding years' CO2 values. Secondly, we use a multiple regression model that takes into account the CO2 of a given year and the average of the five preceding years' pH values. Finally, we create a new multiple regression model that considers three variables: CO2 of a given year, pH of a given year, and the average of the preceding five year's calcification rate.\n"
   ]
  },
  {
   "cell_type": "markdown",
   "metadata": {},
   "source": [
    "## Results"
   ]
  },
  {
   "cell_type": "code",
   "execution_count": 10,
   "metadata": {},
   "outputs": [],
   "source": [
    "# imports\n",
    "import pandas as pd\n",
    "import numpy as np\n",
    "import seaborn as sns\n",
    "import matplotlib.pyplot as plt\n",
    "from sklearn.linear_model import LinearRegression\n",
    "from sklearn.metrics import r2_score\n",
    "sns.set()"
   ]
  },
  {
   "cell_type": "code",
   "execution_count": 11,
   "metadata": {},
   "outputs": [],
   "source": [
    "def get_linear_regression(df, x_feat_list, y_feat):\n",
    "    \"\"\"computes linear regression for specified data and returns intercept and coefficient(s)\n",
    "    \n",
    "    Args:\n",
    "        df (pd.DataFrame) : data\n",
    "        x_feat_list (list) : list of independent variables to be considered in prediction\n",
    "        y_feat (String) : variable to predict\n",
    "    \n",
    "    Returns:\n",
    "        intercept, coef (tuple) : model intercept and list of coefficients\n",
    "    \"\"\"\n",
    "    # get target variable\n",
    "    x = df.loc[:, x_feat_list].values\n",
    "    y = df.loc[:, y_feat].values\n",
    "    \n",
    "    reg = LinearRegression()\n",
    "\n",
    "    # fit regression\n",
    "    reg.fit(x, y)\n",
    "\n",
    "    # compute / store r2\n",
    "    y_pred = reg.predict(x)\n",
    "\n",
    "    # print model\n",
    "    model_str = y_feat + f' = {reg.intercept_:.3}'\n",
    "    for feat, coef in zip(x_feat_list, reg.coef_):\n",
    "        model_str += f' + {coef:.3} {feat}'\n",
    "    print(f'Formula for predicting {y_feat}: \\n' + model_str)\n",
    "\n",
    "    # compute r2\n",
    "    r2 = r2_score(y_true=y, y_pred=y_pred)\n",
    "    print(f'r2 = {r2:.3}')\n",
    "    \n",
    "    return (reg.intercept_, reg.coef_)"
   ]
  },
  {
   "cell_type": "code",
   "execution_count": 12,
   "metadata": {},
   "outputs": [],
   "source": [
    "def create_prev_mean(df, mean_feat):\n",
    "    \"\"\"Alters given dataframe by adding new \"mean\" column that represents the mean of previous 5 years' values\n",
    "    \n",
    "    Args:\n",
    "        df (pd.DataFrame): dataframe we are altering\n",
    "        mean_feat (str): feature we want to compute mean for\n",
    "    \n",
    "    Returns:\n",
    "        df_mean (pd.DataFrame): dataframe altered with new \"mean\" for mean_feat\n",
    "    \"\"\"\n",
    "\n",
    "    df_mean = df.copy()\n",
    "    df_mean.reset_index(inplace=True)\n",
    "    #print(df_mean)\n",
    "    year_list = df.index.unique()\n",
    "    means = []\n",
    "    \n",
    "    for i, year in enumerate(year_list):\n",
    "        \n",
    "        # years less than 5 are weird because they don't prev 5 years' data, so take mean of available years\n",
    "        if i < 5:\n",
    "            sum = 0\n",
    "            \n",
    "            # if this is the very first entry, we just set the mean to current entry\n",
    "            if i == 0:\n",
    "                mean = df.iloc[i, :][mean_feat]\n",
    "            else:\n",
    "                for idx in range(0, i):\n",
    "                    data = df.iloc[idx, :]\n",
    "                    sum += data[mean_feat]\n",
    "\n",
    "                mean = sum / i\n",
    "                    \n",
    "        else:\n",
    "            sum = 0\n",
    "            # the 5 previous years\n",
    "            for idx in range(i - 5, i):\n",
    "                \n",
    "                data = df.iloc[idx, :]\n",
    "                sum += data[mean_feat]\n",
    "            \n",
    "            mean = sum / 5\n",
    "        \n",
    "        means.append(mean)\n",
    "        \n",
    "    df_mean[mean_feat + ' mean'] = means\n",
    "    \n",
    "    return df_mean"
   ]
  },
  {
   "cell_type": "code",
   "execution_count": 13,
   "metadata": {},
   "outputs": [],
   "source": [
    "def plot_regression(df, x_feat_list, y_feat, df_predicted=None, title='', xlabel='', ylabel=''):\n",
    "    \"\"\"\n",
    "    Creates scatter plot with linear regression model, plots predicted points if passed in\n",
    "    \n",
    "    Args:\n",
    "        df (pd.DataFrame): dataframe we will base our model on\n",
    "        x_feat_list (list): x features of linear regression\n",
    "        y_feat (str): y feature of linear regression\n",
    "        x_f (np.array): future x data (default=None)\n",
    "        y_f (np.array): future y data (default=None)\n",
    "        title (str): title of the plot\n",
    "        xlabel (str): title of xlabel\n",
    "        ylabel (str): title of ylabel\n",
    "    Returns:\n",
    "        intercept, coef (float, float): intercept and coef of the linear regression\n",
    "    \"\"\"\n",
    "    \n",
    "    x = df.loc[:, x_feat_list].values\n",
    "    y = df.loc[:, y_feat].values\n",
    "\n",
    "    reg = LinearRegression()\n",
    "    reg.fit(x, y)\n",
    "    y_pred = reg.predict(x)\n",
    "\n",
    "    # compute mean squared error\n",
    "    mse = ((y_pred - y) ** 2).mean()\n",
    "    r2 = r2_score(y_true=y, y_pred=y_pred)\n",
    "    \n",
    "    # plot it\n",
    "    plt.scatter(df['Year'], y, color='g', label='observed')\n",
    "    plt.plot(df['Year'], y_pred, color='b', label='model (regression)')\n",
    "        \n",
    "    if df_predicted is not None:\n",
    "        x_f = df_predicted.loc[:, x_feat_list].values\n",
    "        y_f = df_predicted.loc[:, y_feat].values\n",
    "        plt.scatter(df_predicted['Year'], y_f, color='r', label='predicted')\n",
    "        \n",
    "    plt.legend()\n",
    "\n",
    "    sns.set(font_scale=1.5)\n",
    "    plt.xlabel(xlabel)\n",
    "    plt.ylabel(ylabel)\n",
    "    plt.gcf().set_size_inches(10, 5)\n",
    "    plt.gca().title.set_text(title)\n",
    "\n",
    "    # print model\n",
    "    model_str = y_feat + f' = {reg.intercept_:.3}'\n",
    "    for feat, coef in zip(x_feat_list, reg.coef_):\n",
    "        model_str += f' + {coef:.3} {feat}'\n",
    "    print(f'Formula for prediciting {y_feat}: \\n' + model_str)\n",
    "\n",
    "    # compute r2\n",
    "    r2 = r2_score(y_true=y, y_pred=y_pred)\n",
    "    print(f'r2 = {r2:.3}')\n",
    "        \n",
    "    return (reg.intercept_, reg.coef_)"
   ]
  },
  {
   "cell_type": "markdown",
   "metadata": {},
   "source": [
    "## Predicting CO2\n",
    "\n",
    "Steps for predicting CO2:\n",
    "1. Get the CO2 dataframe (do not exclude values past 2004, since we need these to predict future values)\n",
    "2. Call plot_regression() to visualize this data and get linear regression model\n",
    "3. Predict CO2 emissions up to 2050 using this linear regression model and add data to df_co2_predicted\n",
    "4. Call plot_regression again to visualize old data and predicted data\n",
    "5. Combine df_co2 with df_co2_predicted into df_co2_future. This can now be used to predict pH."
   ]
  },
  {
   "cell_type": "code",
   "execution_count": 14,
   "metadata": {
    "scrolled": true
   },
   "outputs": [
    {
     "data": {
      "text/html": [
       "<div>\n",
       "<style scoped>\n",
       "    .dataframe tbody tr th:only-of-type {\n",
       "        vertical-align: middle;\n",
       "    }\n",
       "\n",
       "    .dataframe tbody tr th {\n",
       "        vertical-align: top;\n",
       "    }\n",
       "\n",
       "    .dataframe thead th {\n",
       "        text-align: right;\n",
       "    }\n",
       "</style>\n",
       "<table border=\"1\" class=\"dataframe\">\n",
       "  <thead>\n",
       "    <tr style=\"text-align: right;\">\n",
       "      <th>10</th>\n",
       "      <th>CO2 emissions (MtC)</th>\n",
       "    </tr>\n",
       "    <tr>\n",
       "      <th>Year</th>\n",
       "      <th></th>\n",
       "    </tr>\n",
       "  </thead>\n",
       "  <tbody>\n",
       "    <tr>\n",
       "      <th>1959</th>\n",
       "      <td>23</td>\n",
       "    </tr>\n",
       "    <tr>\n",
       "      <th>1960</th>\n",
       "      <td>24</td>\n",
       "    </tr>\n",
       "    <tr>\n",
       "      <th>1961</th>\n",
       "      <td>25</td>\n",
       "    </tr>\n",
       "    <tr>\n",
       "      <th>1962</th>\n",
       "      <td>26</td>\n",
       "    </tr>\n",
       "    <tr>\n",
       "      <th>1963</th>\n",
       "      <td>28</td>\n",
       "    </tr>\n",
       "  </tbody>\n",
       "</table>\n",
       "</div>"
      ],
      "text/plain": [
       "10    CO2 emissions (MtC)\n",
       "Year                     \n",
       "1959                   23\n",
       "1960                   24\n",
       "1961                   25\n",
       "1962                   26\n",
       "1963                   28"
      ]
     },
     "execution_count": 14,
     "metadata": {},
     "output_type": "execute_result"
    }
   ],
   "source": [
    "def get_australia_co2(trim_year=False):\n",
    "    \"\"\"Gets and cleans historic carbon emmissions data of Autralia into a DataFrame\n",
    "    \n",
    "    Args:\n",
    "        trim_year (bool): do we want to exclude data not within 1959-2004? (default=False)\n",
    "    \n",
    "    Returns:\n",
    "        df_co2 (DataFrame) : DataFrame containing the cleaned carbon emissions data\n",
    "    \"\"\"\n",
    "    df_co2 = pd.read_csv('National_Carbon_Emissions_2020v1.0.csv')\n",
    "    \n",
    "    # Set columns to row 10\n",
    "    df_co2.columns = df_co2.iloc[10]\n",
    "    \n",
    "    # remove all rows before row 10\n",
    "    for index in df_co2.index:\n",
    "        if index < 10:\n",
    "            df_co2.drop(index, inplace=True)\n",
    "            \n",
    "    # Name the year column and delete nan values\n",
    "    df_co2.rename(columns={df_co2.columns[0]:'Year'}, inplace=True)\n",
    "    df_co2 = df_co2[df_co2['Year'].notna()]\n",
    "    \n",
    "    # Convert years to ints\n",
    "    df_co2['Year'] = pd.to_numeric(df_co2['Year'])\n",
    "    \n",
    "    if trim_year:\n",
    "        # we don't want data past 2004\n",
    "        bool_series = df_co2['Year'] <= 2004\n",
    "        df_co2 = df_co2.loc[bool_series, :]\n",
    "    \n",
    "    # set index to the year of sample taken, easier to compare to years of the other datasets\n",
    "    df_co2.set_index(['Year'], inplace=True)\n",
    "    \n",
    "    \n",
    "    # only use Australia's co2 emissions\n",
    "    df_co2 = df_co2.loc[:, df_co2.columns == 'Australia']\n",
    "    df_co2.rename(columns={df_co2.columns[0]:'CO2 emissions (MtC)'}, inplace=True)   \n",
    "    df_co2['CO2 emissions (MtC)'] = pd.to_numeric(df_co2['CO2 emissions (MtC)'])\n",
    "\n",
    "    \n",
    "    return df_co2\n",
    "\n",
    "df_co2 = get_australia_co2()\n",
    "df_co2.head()"
   ]
  },
  {
   "cell_type": "code",
   "execution_count": 15,
   "metadata": {},
   "outputs": [
    {
     "data": {
      "text/html": [
       "<div>\n",
       "<style scoped>\n",
       "    .dataframe tbody tr th:only-of-type {\n",
       "        vertical-align: middle;\n",
       "    }\n",
       "\n",
       "    .dataframe tbody tr th {\n",
       "        vertical-align: top;\n",
       "    }\n",
       "\n",
       "    .dataframe thead th {\n",
       "        text-align: right;\n",
       "    }\n",
       "</style>\n",
       "<table border=\"1\" class=\"dataframe\">\n",
       "  <thead>\n",
       "    <tr style=\"text-align: right;\">\n",
       "      <th>10</th>\n",
       "      <th>Year</th>\n",
       "      <th>CO2 emissions (MtC)</th>\n",
       "      <th>CO2 emissions (MtC) mean</th>\n",
       "    </tr>\n",
       "  </thead>\n",
       "  <tbody>\n",
       "    <tr>\n",
       "      <th>0</th>\n",
       "      <td>1959</td>\n",
       "      <td>23</td>\n",
       "      <td>23.0</td>\n",
       "    </tr>\n",
       "    <tr>\n",
       "      <th>1</th>\n",
       "      <td>1960</td>\n",
       "      <td>24</td>\n",
       "      <td>23.0</td>\n",
       "    </tr>\n",
       "    <tr>\n",
       "      <th>2</th>\n",
       "      <td>1961</td>\n",
       "      <td>25</td>\n",
       "      <td>23.5</td>\n",
       "    </tr>\n",
       "    <tr>\n",
       "      <th>3</th>\n",
       "      <td>1962</td>\n",
       "      <td>26</td>\n",
       "      <td>24.0</td>\n",
       "    </tr>\n",
       "    <tr>\n",
       "      <th>4</th>\n",
       "      <td>1963</td>\n",
       "      <td>28</td>\n",
       "      <td>24.5</td>\n",
       "    </tr>\n",
       "  </tbody>\n",
       "</table>\n",
       "</div>"
      ],
      "text/plain": [
       "10  Year  CO2 emissions (MtC)  CO2 emissions (MtC) mean\n",
       "0   1959                   23                      23.0\n",
       "1   1960                   24                      23.0\n",
       "2   1961                   25                      23.5\n",
       "3   1962                   26                      24.0\n",
       "4   1963                   28                      24.5"
      ]
     },
     "execution_count": 15,
     "metadata": {},
     "output_type": "execute_result"
    }
   ],
   "source": [
    "df_co2_mean = create_prev_mean(df_co2, 'CO2 emissions (MtC)')\n",
    "df_co2_mean.head()"
   ]
  },
  {
   "cell_type": "code",
   "execution_count": 16,
   "metadata": {
    "scrolled": false
   },
   "outputs": [
    {
     "name": "stdout",
     "output_type": "stream",
     "text": [
      "Formula for predicting CO2 emissions (MtC): \n",
      "CO2 emissions (MtC) = -1.72e+02 + 0.0909 Year + 0.933 CO2 emissions (MtC) mean\n",
      "r2 = 0.993\n"
     ]
    }
   ],
   "source": [
    "x_feat_list = ['Year', 'CO2 emissions (MtC) mean']\n",
    "y_feat = 'CO2 emissions (MtC)'\n",
    "\n",
    "intercept, coefs = get_linear_regression(df_co2_mean, x_feat_list, y_feat)\n",
    "\n",
    "df_co2_mean.set_index('Year', inplace=True)"
   ]
  },
  {
   "cell_type": "code",
   "execution_count": 17,
   "metadata": {
    "scrolled": true
   },
   "outputs": [
    {
     "data": {
      "text/html": [
       "<div>\n",
       "<style scoped>\n",
       "    .dataframe tbody tr th:only-of-type {\n",
       "        vertical-align: middle;\n",
       "    }\n",
       "\n",
       "    .dataframe tbody tr th {\n",
       "        vertical-align: top;\n",
       "    }\n",
       "\n",
       "    .dataframe thead th {\n",
       "        text-align: right;\n",
       "    }\n",
       "</style>\n",
       "<table border=\"1\" class=\"dataframe\">\n",
       "  <thead>\n",
       "    <tr style=\"text-align: right;\">\n",
       "      <th></th>\n",
       "      <th>CO2 emissions (MtC)</th>\n",
       "      <th>CO2 emissions (MtC) mean</th>\n",
       "    </tr>\n",
       "    <tr>\n",
       "      <th>Year</th>\n",
       "      <th></th>\n",
       "      <th></th>\n",
       "    </tr>\n",
       "  </thead>\n",
       "  <tbody>\n",
       "    <tr>\n",
       "      <th>2020</th>\n",
       "      <td>116.482342</td>\n",
       "      <td>112.200000</td>\n",
       "    </tr>\n",
       "    <tr>\n",
       "      <th>2021</th>\n",
       "      <td>117.782727</td>\n",
       "      <td>113.496468</td>\n",
       "    </tr>\n",
       "    <tr>\n",
       "      <th>2022</th>\n",
       "      <td>118.952577</td>\n",
       "      <td>114.653014</td>\n",
       "    </tr>\n",
       "    <tr>\n",
       "      <th>2023</th>\n",
       "      <td>120.154118</td>\n",
       "      <td>115.843529</td>\n",
       "    </tr>\n",
       "    <tr>\n",
       "      <th>2024</th>\n",
       "      <td>121.393263</td>\n",
       "      <td>117.074353</td>\n",
       "    </tr>\n",
       "  </tbody>\n",
       "</table>\n",
       "</div>"
      ],
      "text/plain": [
       "      CO2 emissions (MtC)  CO2 emissions (MtC) mean\n",
       "Year                                               \n",
       "2020           116.482342                112.200000\n",
       "2021           117.782727                113.496468\n",
       "2022           118.952577                114.653014\n",
       "2023           120.154118                115.843529\n",
       "2024           121.393263                117.074353"
      ]
     },
     "execution_count": 17,
     "metadata": {},
     "output_type": "execute_result"
    }
   ],
   "source": [
    "# predict until 2050\n",
    "\n",
    "df_co2_predicted = pd.DataFrame(columns = ['Year', y_feat, 'CO2 emissions (MtC) mean'])\n",
    "df_co2_predicted.set_index('Year', inplace=True)\n",
    "\n",
    "for i in range(0, 31):\n",
    "    # calculate future co2 mean, will always have 5 previous years so no outlier/weird calculations\n",
    "    year = 2020 + i \n",
    "    co2_sum = 0\n",
    "    for idx in range(year - 5, year):\n",
    "        if idx < 2020:\n",
    "            co2_sum += df_co2_mean.loc[idx]['CO2 emissions (MtC)']\n",
    "        else:\n",
    "            co2_sum += df_co2_predicted.loc[idx]['CO2 emissions (MtC)']\n",
    "\n",
    "\n",
    "    co2_mean = co2_sum / 5\n",
    "    \n",
    "    # plug values into formula to calculate predicted pH\n",
    "    formula = intercept + (coefs[0] * year) + (coefs[1] * co2_mean)\n",
    "    df_co2_predicted.loc[year] = [formula, co2_mean]\n",
    "\n",
    "df_co2_predicted.head()"
   ]
  },
  {
   "cell_type": "markdown",
   "metadata": {},
   "source": [
    "<a id='co2_cell'></a>"
   ]
  },
  {
   "cell_type": "code",
   "execution_count": 18,
   "metadata": {},
   "outputs": [
    {
     "name": "stdout",
     "output_type": "stream",
     "text": [
      "Formula for prediciting CO2 emissions (MtC): \n",
      "CO2 emissions (MtC) = -1.72e+02 + 0.0909 Year + 0.933 CO2 emissions (MtC) mean\n",
      "r2 = 0.993\n"
     ]
    },
    {
     "data": {
      "text/plain": [
       "(-171.82932202038643, array([0.09091112, 0.93289848]))"
      ]
     },
     "execution_count": 18,
     "metadata": {},
     "output_type": "execute_result"
    },
    {
     "data": {
      "image/png": "[encoded data removed]",
      "text/plain": [
       "<Figure size 720x360 with 1 Axes>"
      ]
     },
     "metadata": {},
     "output_type": "display_data"
    }
   ],
   "source": [
    "df_co2_predicted.reset_index(inplace=True)\n",
    "df_co2_mean.reset_index(inplace=True)\n",
    "\n",
    "plot_regression(df_co2_mean, x_feat_list, y_feat, df_co2_predicted, title='Predicting Future CO2 Emissions in Australia', xlabel='Year', ylabel=y_feat)"
   ]
  },
  {
   "cell_type": "code",
   "execution_count": 43,
   "metadata": {},
   "outputs": [],
   "source": [
    "# add predicted values to df_co2\n",
    "df_co2_future = pd.concat([df_co2_mean, df_co2_predicted])\n",
    "df_co2_future = df_co2_future.set_index('Year')"
   ]
  },
  {
   "cell_type": "markdown",
   "metadata": {},
   "source": [
    "## Predicting pH\n",
    "\n",
    "Steps for predicting pH:\n",
    "1. Create ```df_ph_co2``` with pH data (1959 - 2004) and previously constructed ```df_co2``` via ```get_ph_and_co2()```.\n",
    "2. Rename dataframe as ```df_ph_co2_mean``` and add additional column to represent the average of the previous 5 years' pH levels via ```create_prev_mean()```.\n",
    "3. Calculate multiple regression model and visualize.\n",
    "4. Predict pH up to 2050 using this multiple regression model and add data to ```df_ph_predicted```.\n",
    "5. Plot and visualize predicted multiple regression against observed samples.\n",
    "6. Extract year and pH information from ```df_ph_predicted``` into ```df_ph_future``` which can now be used to predict coral calcification."
   ]
  },
  {
   "cell_type": "code",
   "execution_count": 20,
   "metadata": {},
   "outputs": [
    {
     "data": {
      "text/html": [
       "<div>\n",
       "<style scoped>\n",
       "    .dataframe tbody tr th:only-of-type {\n",
       "        vertical-align: middle;\n",
       "    }\n",
       "\n",
       "    .dataframe tbody tr th {\n",
       "        vertical-align: top;\n",
       "    }\n",
       "\n",
       "    .dataframe thead th {\n",
       "        text-align: right;\n",
       "    }\n",
       "</style>\n",
       "<table border=\"1\" class=\"dataframe\">\n",
       "  <thead>\n",
       "    <tr style=\"text-align: right;\">\n",
       "      <th></th>\n",
       "      <th>pH</th>\n",
       "      <th>CO2 emissions (MtC)</th>\n",
       "    </tr>\n",
       "    <tr>\n",
       "      <th>Year</th>\n",
       "      <th></th>\n",
       "      <th></th>\n",
       "    </tr>\n",
       "  </thead>\n",
       "  <tbody>\n",
       "    <tr>\n",
       "      <th>1959</th>\n",
       "      <td>7.94</td>\n",
       "      <td>23</td>\n",
       "    </tr>\n",
       "    <tr>\n",
       "      <th>1960</th>\n",
       "      <td>8.01</td>\n",
       "      <td>24</td>\n",
       "    </tr>\n",
       "    <tr>\n",
       "      <th>1961</th>\n",
       "      <td>7.94</td>\n",
       "      <td>25</td>\n",
       "    </tr>\n",
       "    <tr>\n",
       "      <th>1962</th>\n",
       "      <td>7.90</td>\n",
       "      <td>26</td>\n",
       "    </tr>\n",
       "    <tr>\n",
       "      <th>1963</th>\n",
       "      <td>7.95</td>\n",
       "      <td>28</td>\n",
       "    </tr>\n",
       "  </tbody>\n",
       "</table>\n",
       "</div>"
      ],
      "text/plain": [
       "        pH  CO2 emissions (MtC)\n",
       "Year                           \n",
       "1959  7.94                   23\n",
       "1960  8.01                   24\n",
       "1961  7.94                   25\n",
       "1962  7.90                   26\n",
       "1963  7.95                   28"
      ]
     },
     "execution_count": 20,
     "metadata": {},
     "output_type": "execute_result"
    }
   ],
   "source": [
    "def get_ph_and_co2(df_co2):\n",
    "    \"\"\" Gets pH information and creates combined dataframe with historical co2\n",
    "    \n",
    "    Args:\n",
    "        df_co2 (pd.DataFrame) : dataframe of past future co2 emissions until 2004\n",
    "    \n",
    "    Returns:\n",
    "        df_ph_co2 (pd.DataFrame): dataframe of past \n",
    "    \"\"\"\n",
    "    df_ph_co2 = pd.read_csv('arlington2009.csv')\n",
    "    df_ph_co2.dropna(inplace=True)\n",
    "\n",
    "    # remove unimportant columns\n",
    "    del df_ph_co2['SampleID']\n",
    "    del df_ph_co2['        d13C (per mil VPDB) *c']\n",
    "    del df_ph_co2['        d18O (per mil VPDB) *c']\n",
    "    del df_ph_co2['        d11B (per mil) *d']\n",
    "    del df_ph_co2['2sigma']\n",
    "    del df_ph_co2['   2sigma mean *e']\n",
    "    del df_ph_co2['      Mg/Ca (x10-3) *b']\n",
    "    del df_ph_co2['       Sr/Ca (x10-3) *b']\n",
    "    del df_ph_co2['      Ba/Ca (x10-6)  *b']\n",
    "    df_ph_co2.columns = ['Year', 'pH']\n",
    "    \n",
    "    \n",
    "    bool_series = df_ph_co2['Year'] >= 1959\n",
    "    df_ph_co2 = df_ph_co2.loc[bool_series, :]\n",
    "    \n",
    "    bool_series = df_ph_co2['Year'] <= 2004\n",
    "    df_ph_co2 = df_ph_co2.loc[bool_series, :]\n",
    "    \n",
    "    # append co2 dataframe to get combined info (both pH and co2)\n",
    "    df_co2.reset_index(inplace=True)\n",
    "    df_ph_co2 = pd.merge(df_ph_co2, df_co2, on='Year', how='outer')\n",
    "    df_ph_co2 = df_ph_co2.astype({\"Year\": int})\n",
    "    \n",
    "    # set index to the year of sample taken, easier to compare to years of the other datasets\n",
    "    df_ph_co2.set_index(['Year'], inplace=True)\n",
    "    \n",
    "\n",
    "    return df_ph_co2\n",
    "\n",
    "    \n",
    "df_ph_co2 = get_ph_and_co2(get_australia_co2(True))\n",
    "df_ph_co2.head()"
   ]
  },
  {
   "cell_type": "code",
   "execution_count": 21,
   "metadata": {},
   "outputs": [
    {
     "data": {
      "text/html": [
       "<div>\n",
       "<style scoped>\n",
       "    .dataframe tbody tr th:only-of-type {\n",
       "        vertical-align: middle;\n",
       "    }\n",
       "\n",
       "    .dataframe tbody tr th {\n",
       "        vertical-align: top;\n",
       "    }\n",
       "\n",
       "    .dataframe thead th {\n",
       "        text-align: right;\n",
       "    }\n",
       "</style>\n",
       "<table border=\"1\" class=\"dataframe\">\n",
       "  <thead>\n",
       "    <tr style=\"text-align: right;\">\n",
       "      <th></th>\n",
       "      <th>Year</th>\n",
       "      <th>pH</th>\n",
       "      <th>CO2 emissions (MtC)</th>\n",
       "      <th>pH mean</th>\n",
       "    </tr>\n",
       "  </thead>\n",
       "  <tbody>\n",
       "    <tr>\n",
       "      <th>0</th>\n",
       "      <td>1959</td>\n",
       "      <td>7.94</td>\n",
       "      <td>23</td>\n",
       "      <td>7.940000</td>\n",
       "    </tr>\n",
       "    <tr>\n",
       "      <th>1</th>\n",
       "      <td>1960</td>\n",
       "      <td>8.01</td>\n",
       "      <td>24</td>\n",
       "      <td>7.940000</td>\n",
       "    </tr>\n",
       "    <tr>\n",
       "      <th>2</th>\n",
       "      <td>1961</td>\n",
       "      <td>7.94</td>\n",
       "      <td>25</td>\n",
       "      <td>7.975000</td>\n",
       "    </tr>\n",
       "    <tr>\n",
       "      <th>3</th>\n",
       "      <td>1962</td>\n",
       "      <td>7.90</td>\n",
       "      <td>26</td>\n",
       "      <td>7.963333</td>\n",
       "    </tr>\n",
       "    <tr>\n",
       "      <th>4</th>\n",
       "      <td>1963</td>\n",
       "      <td>7.95</td>\n",
       "      <td>28</td>\n",
       "      <td>7.947500</td>\n",
       "    </tr>\n",
       "  </tbody>\n",
       "</table>\n",
       "</div>"
      ],
      "text/plain": [
       "   Year    pH  CO2 emissions (MtC)   pH mean\n",
       "0  1959  7.94                   23  7.940000\n",
       "1  1960  8.01                   24  7.940000\n",
       "2  1961  7.94                   25  7.975000\n",
       "3  1962  7.90                   26  7.963333\n",
       "4  1963  7.95                   28  7.947500"
      ]
     },
     "execution_count": 21,
     "metadata": {},
     "output_type": "execute_result"
    }
   ],
   "source": [
    "df_ph_co2_mean = create_prev_mean(df_ph_co2, 'pH')\n",
    "df_ph_co2_mean.head()"
   ]
  },
  {
   "cell_type": "code",
   "execution_count": 22,
   "metadata": {},
   "outputs": [
    {
     "name": "stdout",
     "output_type": "stream",
     "text": [
      "Formula for predicting pH: \n",
      "pH = 8.9 + -0.00235 CO2 emissions (MtC) + -0.101 pH mean\n",
      "r2 = 0.203\n"
     ]
    }
   ],
   "source": [
    "x_feat_list = ['CO2 emissions (MtC)', 'pH mean']\n",
    "y_feat = 'pH'\n",
    "\n",
    "intercept, coefs = get_linear_regression(df_ph_co2_mean, x_feat_list, y_feat)"
   ]
  },
  {
   "cell_type": "code",
   "execution_count": 23,
   "metadata": {},
   "outputs": [],
   "source": [
    "df_ph_co2_mean = df_ph_co2_mean.set_index(\"Year\")"
   ]
  },
  {
   "cell_type": "code",
   "execution_count": 24,
   "metadata": {},
   "outputs": [
    {
     "data": {
      "text/html": [
       "<div>\n",
       "<style scoped>\n",
       "    .dataframe tbody tr th:only-of-type {\n",
       "        vertical-align: middle;\n",
       "    }\n",
       "\n",
       "    .dataframe tbody tr th {\n",
       "        vertical-align: top;\n",
       "    }\n",
       "\n",
       "    .dataframe thead th {\n",
       "        text-align: right;\n",
       "    }\n",
       "</style>\n",
       "<table border=\"1\" class=\"dataframe\">\n",
       "  <thead>\n",
       "    <tr style=\"text-align: right;\">\n",
       "      <th></th>\n",
       "      <th>CO2 emissions (MtC)</th>\n",
       "      <th>pH</th>\n",
       "      <th>pH mean</th>\n",
       "    </tr>\n",
       "    <tr>\n",
       "      <th>Year</th>\n",
       "      <th></th>\n",
       "      <th></th>\n",
       "      <th></th>\n",
       "    </tr>\n",
       "  </thead>\n",
       "  <tbody>\n",
       "    <tr>\n",
       "      <th>2005</th>\n",
       "      <td>105.0</td>\n",
       "      <td>7.856840</td>\n",
       "      <td>7.860000</td>\n",
       "    </tr>\n",
       "    <tr>\n",
       "      <th>2006</th>\n",
       "      <td>107.0</td>\n",
       "      <td>7.851193</td>\n",
       "      <td>7.869368</td>\n",
       "    </tr>\n",
       "    <tr>\n",
       "      <th>2007</th>\n",
       "      <td>109.0</td>\n",
       "      <td>7.844647</td>\n",
       "      <td>7.887607</td>\n",
       "    </tr>\n",
       "    <tr>\n",
       "      <th>2008</th>\n",
       "      <td>110.0</td>\n",
       "      <td>7.846262</td>\n",
       "      <td>7.848536</td>\n",
       "    </tr>\n",
       "    <tr>\n",
       "      <th>2009</th>\n",
       "      <td>111.0</td>\n",
       "      <td>7.847642</td>\n",
       "      <td>7.811788</td>\n",
       "    </tr>\n",
       "  </tbody>\n",
       "</table>\n",
       "</div>"
      ],
      "text/plain": [
       "      CO2 emissions (MtC)        pH   pH mean\n",
       "Year                                         \n",
       "2005                105.0  7.856840  7.860000\n",
       "2006                107.0  7.851193  7.869368\n",
       "2007                109.0  7.844647  7.887607\n",
       "2008                110.0  7.846262  7.848536\n",
       "2009                111.0  7.847642  7.811788"
      ]
     },
     "execution_count": 24,
     "metadata": {},
     "output_type": "execute_result"
    }
   ],
   "source": [
    "# predict until 2050\n",
    "\n",
    "df_ph_predicted = pd.DataFrame(columns = ['Year', 'CO2 emissions (MtC)', y_feat, 'pH mean'])\n",
    "df_ph_predicted.set_index('Year', inplace=True)\n",
    "\n",
    "for i in range(0, 2051 - 2005):\n",
    "    # calculate future pH mean, will always have 5 previous years so no outlier/weird calculations\n",
    "    year = 2005 + i \n",
    "    ph_sum = 0\n",
    "    for idx in range(year - 5, year):\n",
    "        if idx < 2005:\n",
    "            ph_sum += df_ph_co2_mean.loc[idx][y_feat]\n",
    "            #print(df_ph_co2_mean.loc[idx][y_feat])\n",
    "        else:\n",
    "            ph_sum += df_ph_predicted.loc[idx][y_feat]\n",
    "\n",
    "\n",
    "    co2 = df_co2_future.loc[year]['CO2 emissions (MtC)']\n",
    "\n",
    "    ph_mean = ph_sum / 5\n",
    "    \n",
    "    # plug values into formula to calculate predicted pH\n",
    "    formula = intercept + (coefs[0] * co2 + coefs[1] * ph_mean)\n",
    "    df_ph_predicted.loc[year] = [co2, formula, ph_mean]\n",
    "\n",
    "df_ph_predicted.head()"
   ]
  },
  {
   "cell_type": "markdown",
   "metadata": {},
   "source": [
    "<a id='ph_cell'></a>"
   ]
  },
  {
   "cell_type": "code",
   "execution_count": 25,
   "metadata": {},
   "outputs": [
    {
     "name": "stdout",
     "output_type": "stream",
     "text": [
      "Formula for prediciting pH: \n",
      "pH = 8.9 + -0.00235 CO2 emissions (MtC) + -0.101 pH mean\n",
      "r2 = 0.203\n"
     ]
    },
    {
     "data": {
      "text/plain": [
       "(8.900655482873134, array([-0.00234805, -0.10143394]))"
      ]
     },
     "execution_count": 25,
     "metadata": {},
     "output_type": "execute_result"
    },
    {
     "data": {
      "image/png": "[encoded data removed]",
      "text/plain": [
       "<Figure size 720x360 with 1 Axes>"
      ]
     },
     "metadata": {},
     "output_type": "display_data"
    }
   ],
   "source": [
    "df_ph_predicted.reset_index(inplace=True)\n",
    "df_ph_co2_mean.reset_index(inplace=True)\n",
    "\n",
    "plot_regression(df_ph_co2_mean, x_feat_list, y_feat, df_ph_predicted, title='Predicting Future pH level in Australia seawater', xlabel='Year', ylabel=y_feat)"
   ]
  },
  {
   "cell_type": "code",
   "execution_count": 26,
   "metadata": {
    "scrolled": true
   },
   "outputs": [],
   "source": [
    "# add predicted values to df_co2\n",
    "df_ph_future = pd.concat([df_ph_co2_mean, df_ph_predicted])\n",
    "df_ph_future.set_index('Year', inplace=True)\n",
    "del df_ph_future['pH mean']"
   ]
  },
  {
   "cell_type": "code",
   "execution_count": 45,
   "metadata": {},
   "outputs": [
    {
     "name": "stdout",
     "output_type": "stream",
     "text": [
      "pH                       7.66\n",
      "CO2 emissions (MtC)    105.00\n",
      "Name: 2004, dtype: float64\n",
      "pH                       7.742549\n",
      "CO2 emissions (MtC)    158.362639\n",
      "Name: 2050, dtype: float64\n"
     ]
    }
   ],
   "source": [
    "print(df_ph_future.loc[2004])\n",
    "print(df_ph_future.loc[2050])"
   ]
  },
  {
   "cell_type": "markdown",
   "metadata": {},
   "source": [
    "## Predicting Coral Calcification\n",
    "\n",
    "Steps for predicting coral calcification:\n",
    "1. Create ```df_coral``` with coral calcification data (1959 - 2004) and previously constructed ```df_ph_future``` via ```get_coral_ph_co2()```.\n",
    "2. Rename dataframe as ```df_coral_ph_co2_mean``` and add additional column to represent the average of the previous 5 years' coral calcification levels via ```create_prev_mean()```.\n",
    "3. Calculate multiple regression model and visualize.\n",
    "4. Predict coral calcification up to 2050 using this multiple regression model and add data to ```df_coral_predicted```.\n",
    "5. Plot and visualize predicted multiple regression against observed samples.\n",
    "6. Extract year and coral calcification information from ```df_coral_predicted``` into ```df_coral_future``` which is the final output of predicting coral calcification until 2050."
   ]
  },
  {
   "cell_type": "code",
   "execution_count": 27,
   "metadata": {},
   "outputs": [
    {
     "data": {
      "text/html": [
       "<div>\n",
       "<style scoped>\n",
       "    .dataframe tbody tr th:only-of-type {\n",
       "        vertical-align: middle;\n",
       "    }\n",
       "\n",
       "    .dataframe tbody tr th {\n",
       "        vertical-align: top;\n",
       "    }\n",
       "\n",
       "    .dataframe thead th {\n",
       "        text-align: right;\n",
       "    }\n",
       "</style>\n",
       "<table border=\"1\" class=\"dataframe\">\n",
       "  <thead>\n",
       "    <tr style=\"text-align: right;\">\n",
       "      <th></th>\n",
       "      <th>calc rate(g/cm^2/yr)</th>\n",
       "      <th>pH</th>\n",
       "      <th>CO2 emissions (MtC)</th>\n",
       "    </tr>\n",
       "    <tr>\n",
       "      <th>Year</th>\n",
       "      <th></th>\n",
       "      <th></th>\n",
       "      <th></th>\n",
       "    </tr>\n",
       "  </thead>\n",
       "  <tbody>\n",
       "    <tr>\n",
       "      <th>1959</th>\n",
       "      <td>1.620043</td>\n",
       "      <td>7.94</td>\n",
       "      <td>23.0</td>\n",
       "    </tr>\n",
       "    <tr>\n",
       "      <th>1960</th>\n",
       "      <td>1.633343</td>\n",
       "      <td>8.01</td>\n",
       "      <td>24.0</td>\n",
       "    </tr>\n",
       "    <tr>\n",
       "      <th>1961</th>\n",
       "      <td>1.625227</td>\n",
       "      <td>7.94</td>\n",
       "      <td>25.0</td>\n",
       "    </tr>\n",
       "    <tr>\n",
       "      <th>1962</th>\n",
       "      <td>1.626569</td>\n",
       "      <td>7.90</td>\n",
       "      <td>26.0</td>\n",
       "    </tr>\n",
       "    <tr>\n",
       "      <th>1963</th>\n",
       "      <td>1.728867</td>\n",
       "      <td>7.95</td>\n",
       "      <td>28.0</td>\n",
       "    </tr>\n",
       "  </tbody>\n",
       "</table>\n",
       "</div>"
      ],
      "text/plain": [
       "      calc rate(g/cm^2/yr)    pH  CO2 emissions (MtC)\n",
       "Year                                                 \n",
       "1959              1.620043  7.94                 23.0\n",
       "1960              1.633343  8.01                 24.0\n",
       "1961              1.625227  7.94                 25.0\n",
       "1962              1.626569  7.90                 26.0\n",
       "1963              1.728867  7.95                 28.0"
      ]
     },
     "execution_count": 27,
     "metadata": {},
     "output_type": "execute_result"
    }
   ],
   "source": [
    "def get_coral_ph_co2():\n",
    "    \"\"\"Obtains, cleans, and organizes the coral calficiation data into a DataFrame\n",
    "    \n",
    "    Returns:\n",
    "        df_coral (DataFrame) : DataFrame containing the cleaned coral calcification data (including all columns)\n",
    "    \"\"\"\n",
    "    df_coral = pd.read_csv(\"GBR-coral-calcification.csv\")\n",
    "    df_coral.dropna(axis=0, inplace=True)\n",
    "    \n",
    "    del df_coral['Reef']\n",
    "    del df_coral['ext']\n",
    "    del df_coral['den']\n",
    "    df_coral.columns = ['Year', 'id', 'calc rate(g/cm^2/yr)']\n",
    "    \n",
    "    \n",
    "    bool_series = df_coral['Year'] >= 1959 \n",
    "    df_coral = df_coral.loc[bool_series, :]\n",
    "    \n",
    "    bool_series = df_coral['Year'] <= 2004\n",
    "    df_coral = df_coral.loc[bool_series, :]\n",
    "    \n",
    "    df_coral = df_coral.groupby('Year').mean()\n",
    "    \n",
    "    # append ph dataframe to get combined info (both coral calc + pH + co2)\n",
    "    df_ph = df_ph_future.reset_index()\n",
    "    # get only values earlier than 2005\n",
    "    series_ph_future = df_ph['Year'] <= 2004\n",
    "    df_ph = df_ph.loc[series_ph_future, :]\n",
    "    \n",
    "    df_coral = pd.merge(df_coral, df_ph, on='Year', how='outer')\n",
    "    df_coral = df_coral.astype({\"Year\": int})\n",
    "    \n",
    "    # set index to the year of sample taken, easier to compare to years of the other datasets\n",
    "    df_coral.set_index(['Year'], inplace=True)\n",
    "    \n",
    "    return df_coral\n",
    "\n",
    "df_coral = get_coral_ph_co2()\n",
    "df_coral.head()"
   ]
  },
  {
   "cell_type": "code",
   "execution_count": 28,
   "metadata": {},
   "outputs": [
    {
     "data": {
      "text/html": [
       "<div>\n",
       "<style scoped>\n",
       "    .dataframe tbody tr th:only-of-type {\n",
       "        vertical-align: middle;\n",
       "    }\n",
       "\n",
       "    .dataframe tbody tr th {\n",
       "        vertical-align: top;\n",
       "    }\n",
       "\n",
       "    .dataframe thead th {\n",
       "        text-align: right;\n",
       "    }\n",
       "</style>\n",
       "<table border=\"1\" class=\"dataframe\">\n",
       "  <thead>\n",
       "    <tr style=\"text-align: right;\">\n",
       "      <th></th>\n",
       "      <th>Year</th>\n",
       "      <th>calc rate(g/cm^2/yr)</th>\n",
       "      <th>pH</th>\n",
       "      <th>CO2 emissions (MtC)</th>\n",
       "      <th>calc rate(g/cm^2/yr) mean</th>\n",
       "    </tr>\n",
       "  </thead>\n",
       "  <tbody>\n",
       "    <tr>\n",
       "      <th>0</th>\n",
       "      <td>1959</td>\n",
       "      <td>1.620043</td>\n",
       "      <td>7.94</td>\n",
       "      <td>23.0</td>\n",
       "      <td>1.620043</td>\n",
       "    </tr>\n",
       "    <tr>\n",
       "      <th>1</th>\n",
       "      <td>1960</td>\n",
       "      <td>1.633343</td>\n",
       "      <td>8.01</td>\n",
       "      <td>24.0</td>\n",
       "      <td>1.620043</td>\n",
       "    </tr>\n",
       "    <tr>\n",
       "      <th>2</th>\n",
       "      <td>1961</td>\n",
       "      <td>1.625227</td>\n",
       "      <td>7.94</td>\n",
       "      <td>25.0</td>\n",
       "      <td>1.626693</td>\n",
       "    </tr>\n",
       "    <tr>\n",
       "      <th>3</th>\n",
       "      <td>1962</td>\n",
       "      <td>1.626569</td>\n",
       "      <td>7.90</td>\n",
       "      <td>26.0</td>\n",
       "      <td>1.626204</td>\n",
       "    </tr>\n",
       "    <tr>\n",
       "      <th>4</th>\n",
       "      <td>1963</td>\n",
       "      <td>1.728867</td>\n",
       "      <td>7.95</td>\n",
       "      <td>28.0</td>\n",
       "      <td>1.626295</td>\n",
       "    </tr>\n",
       "  </tbody>\n",
       "</table>\n",
       "</div>"
      ],
      "text/plain": [
       "   Year  calc rate(g/cm^2/yr)    pH  CO2 emissions (MtC)  \\\n",
       "0  1959              1.620043  7.94                 23.0   \n",
       "1  1960              1.633343  8.01                 24.0   \n",
       "2  1961              1.625227  7.94                 25.0   \n",
       "3  1962              1.626569  7.90                 26.0   \n",
       "4  1963              1.728867  7.95                 28.0   \n",
       "\n",
       "   calc rate(g/cm^2/yr) mean  \n",
       "0                   1.620043  \n",
       "1                   1.620043  \n",
       "2                   1.626693  \n",
       "3                   1.626204  \n",
       "4                   1.626295  "
      ]
     },
     "execution_count": 28,
     "metadata": {},
     "output_type": "execute_result"
    }
   ],
   "source": [
    "df_coral_ph_co2_mean = create_prev_mean(df_coral, 'calc rate(g/cm^2/yr)')\n",
    "df_coral_ph_co2_mean.head()"
   ]
  },
  {
   "cell_type": "code",
   "execution_count": 29,
   "metadata": {},
   "outputs": [
    {
     "name": "stdout",
     "output_type": "stream",
     "text": [
      "Formula for predicting calc rate(g/cm^2/yr): \n",
      "calc rate(g/cm^2/yr) = -1.63 + 0.237 pH + 0.849 calc rate(g/cm^2/yr) mean\n",
      "r2 = 0.358\n"
     ]
    }
   ],
   "source": [
    "x_feat_list = ['pH', 'calc rate(g/cm^2/yr) mean']\n",
    "y_feat = 'calc rate(g/cm^2/yr)'\n",
    "\n",
    "intercept, coefs = get_linear_regression(df_coral_ph_co2_mean, x_feat_list, y_feat)\n",
    "df_coral_ph_co2_mean.set_index('Year', inplace=True)"
   ]
  },
  {
   "cell_type": "code",
   "execution_count": 30,
   "metadata": {
    "scrolled": false
   },
   "outputs": [
    {
     "data": {
      "text/html": [
       "<div>\n",
       "<style scoped>\n",
       "    .dataframe tbody tr th:only-of-type {\n",
       "        vertical-align: middle;\n",
       "    }\n",
       "\n",
       "    .dataframe tbody tr th {\n",
       "        vertical-align: top;\n",
       "    }\n",
       "\n",
       "    .dataframe thead th {\n",
       "        text-align: right;\n",
       "    }\n",
       "</style>\n",
       "<table border=\"1\" class=\"dataframe\">\n",
       "  <thead>\n",
       "    <tr style=\"text-align: right;\">\n",
       "      <th></th>\n",
       "      <th>CO2 emissions (MtC)</th>\n",
       "      <th>pH</th>\n",
       "      <th>calc rate(g/cm^2/yr)</th>\n",
       "      <th>calc rate(g/cm^2/yr) mean</th>\n",
       "    </tr>\n",
       "    <tr>\n",
       "      <th>Year</th>\n",
       "      <th></th>\n",
       "      <th></th>\n",
       "      <th></th>\n",
       "      <th></th>\n",
       "    </tr>\n",
       "  </thead>\n",
       "  <tbody>\n",
       "    <tr>\n",
       "      <th>2005</th>\n",
       "      <td>105.0</td>\n",
       "      <td>7.856840</td>\n",
       "      <td>1.661677</td>\n",
       "      <td>1.677508</td>\n",
       "    </tr>\n",
       "    <tr>\n",
       "      <th>2006</th>\n",
       "      <td>107.0</td>\n",
       "      <td>7.851193</td>\n",
       "      <td>1.666186</td>\n",
       "      <td>1.684396</td>\n",
       "    </tr>\n",
       "    <tr>\n",
       "      <th>2007</th>\n",
       "      <td>109.0</td>\n",
       "      <td>7.844647</td>\n",
       "      <td>1.654882</td>\n",
       "      <td>1.672912</td>\n",
       "    </tr>\n",
       "    <tr>\n",
       "      <th>2008</th>\n",
       "      <td>110.0</td>\n",
       "      <td>7.846262</td>\n",
       "      <td>1.635147</td>\n",
       "      <td>1.649217</td>\n",
       "    </tr>\n",
       "    <tr>\n",
       "      <th>2009</th>\n",
       "      <td>111.0</td>\n",
       "      <td>7.847642</td>\n",
       "      <td>1.623574</td>\n",
       "      <td>1.635203</td>\n",
       "    </tr>\n",
       "  </tbody>\n",
       "</table>\n",
       "</div>"
      ],
      "text/plain": [
       "      CO2 emissions (MtC)        pH  calc rate(g/cm^2/yr)  \\\n",
       "Year                                                        \n",
       "2005                105.0  7.856840              1.661677   \n",
       "2006                107.0  7.851193              1.666186   \n",
       "2007                109.0  7.844647              1.654882   \n",
       "2008                110.0  7.846262              1.635147   \n",
       "2009                111.0  7.847642              1.623574   \n",
       "\n",
       "      calc rate(g/cm^2/yr) mean  \n",
       "Year                             \n",
       "2005                   1.677508  \n",
       "2006                   1.684396  \n",
       "2007                   1.672912  \n",
       "2008                   1.649217  \n",
       "2009                   1.635203  "
      ]
     },
     "execution_count": 30,
     "metadata": {},
     "output_type": "execute_result"
    }
   ],
   "source": [
    "# predict until 2050\n",
    "\n",
    "df_coral_predicted = pd.DataFrame(columns = ['Year','CO2 emissions (MtC)', 'pH', y_feat, 'calc rate(g/cm^2/yr) mean'])\n",
    "df_coral_predicted.set_index('Year', inplace=True)\n",
    "\n",
    "for i in range(0, 2051 - 2005):\n",
    "    year = 2005 + i \n",
    "    coral_sum = 0\n",
    "    for idx in range(year - 5, year):\n",
    "        if idx < 2005:\n",
    "            coral_sum += df_coral_ph_co2_mean.loc[idx][y_feat]\n",
    "        else:\n",
    "            coral_sum += df_coral_predicted.loc[idx][y_feat]\n",
    "\n",
    "\n",
    "    co2 = df_ph_future.loc[year]['CO2 emissions (MtC)']\n",
    "    pH = df_ph_future.loc[year]['pH']\n",
    "\n",
    "    coral_mean = coral_sum / 5\n",
    "    \n",
    "    formula = intercept + (coefs[0] * pH) + (coefs[1] * coral_mean)\n",
    "    df_coral_predicted.loc[year] = [co2, pH, formula, coral_mean]\n",
    "\n",
    "df_coral_predicted.head()"
   ]
  },
  {
   "cell_type": "markdown",
   "metadata": {},
   "source": [
    "<a id='result_cell'></a>"
   ]
  },
  {
   "cell_type": "code",
   "execution_count": 31,
   "metadata": {},
   "outputs": [
    {
     "name": "stdout",
     "output_type": "stream",
     "text": [
      "Formula for prediciting calc rate(g/cm^2/yr): \n",
      "calc rate(g/cm^2/yr) = 0.899 + 0.101 pH\n",
      "r2 = 0.0268\n"
     ]
    },
    {
     "data": {
      "text/plain": [
       "(0.8987051087693981, array([0.10125864]))"
      ]
     },
     "execution_count": 31,
     "metadata": {},
     "output_type": "execute_result"
    },
    {
     "data": {
      "image/png": "[encoded data removed]",
      "text/plain": [
       "<Figure size 720x360 with 1 Axes>"
      ]
     },
     "metadata": {},
     "output_type": "display_data"
    }
   ],
   "source": [
    "df_coral_predicted.reset_index(inplace=True)\n",
    "df_coral_ph_co2_mean.reset_index(inplace=True)\n",
    "\n",
    "plot_regression(df_coral_ph_co2_mean, ['pH'], y_feat, df_coral_predicted, title='Predicting Future coral calcification', xlabel='Year', ylabel=y_feat)"
   ]
  }
 ],
 "metadata": {
  "kernelspec": {
   "display_name": "Python 3",
   "language": "python",
   "name": "python3"
  },
  "language_info": {
   "codemirror_mode": {
    "name": "ipython",
    "version": 3
   },
   "file_extension": ".py",
   "mimetype": "text/x-python",
   "name": "python",
   "nbconvert_exporter": "python",
   "pygments_lexer": "ipython3",
   "version": "3.8.5"
  }
 },
 "nbformat": 4,
 "nbformat_minor": 4
}
